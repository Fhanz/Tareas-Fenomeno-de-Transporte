{
 "cells": [
  {
   "cell_type": "markdown",
   "id": "721554c7",
   "metadata": {
    "id": "721554c7"
   },
   "source": [
    "## Sesión 1: Perfiles de velocidad\n",
    "\n",
    "**Hotkeys útiles**: haciendo click fuera de la celda, es posible realizar una serie de operaciones con distintas combinaciones de letras:\n",
    "\n",
    "* Presionar A para agregar una celda sobre la celda actual \n",
    "* Presionar B para agregar una celda bajo la celda actual\n",
    "* Presionar dos veces D para eliminar una celda\n",
    "* Presionar `Shift+Enter` para ejecutar una celda\n",
    "* Presionar Y para cambiar una celda desde Markdown a Code\n",
    "* Presionar M para cambiar una celda desde Code a Markdown"
   ]
  },
  {
   "cell_type": "code",
   "execution_count": 1,
   "id": "0a953edc",
   "metadata": {
    "executionInfo": {
     "elapsed": 8,
     "status": "ok",
     "timestamp": 1660943146153,
     "user": {
      "displayName": "Felipe Huerta Pérez",
      "userId": "01650331348685570157"
     },
     "user_tz": 240
    },
    "id": "0a953edc"
   },
   "outputs": [],
   "source": [
    "# Importamos los paquetes que necesitamos\n",
    "import numpy as np\n",
    "import matplotlib.pyplot as plt"
   ]
  },
  {
   "cell_type": "markdown",
   "id": "acfe3174",
   "metadata": {
    "id": "acfe3174"
   },
   "source": [
    "## Preparar las variables computacionales"
   ]
  },
  {
   "cell_type": "code",
   "execution_count": 2,
   "id": "69c772a4",
   "metadata": {
    "executionInfo": {
     "elapsed": 7,
     "status": "ok",
     "timestamp": 1660943146154,
     "user": {
      "displayName": "Felipe Huerta Pérez",
      "userId": "01650331348685570157"
     },
     "user_tz": 240
    },
    "id": "69c772a4"
   },
   "outputs": [],
   "source": [
    "# Definimos las variables\n",
    "rho = 1e3 # kg/m^3\n",
    "delta = 5e-3 # m\n",
    "mu = 2e-3 # Pa * s\n",
    "g = 9.81 # m/s^2\n",
    "\n",
    "# Ángulo de la superficie con respecto a la aceleración de la gravedad\n",
    "# beta = 0: placa vertical, velocidad máxima. beta = pi/2: placa horizontal, fluido quieto\n",
    "beta = np.pi/4"
   ]
  },
  {
   "cell_type": "markdown",
   "id": "41f62a07",
   "metadata": {
    "id": "41f62a07"
   },
   "source": [
    "Primero evaluaremos la velocidad en una posición particular"
   ]
  },
  {
   "cell_type": "code",
   "execution_count": 3,
   "id": "b2c44baa",
   "metadata": {
    "colab": {
     "base_uri": "https://localhost:8080/"
    },
    "executionInfo": {
     "elapsed": 7,
     "status": "ok",
     "timestamp": 1660943146154,
     "user": {
      "displayName": "Felipe Huerta Pérez",
      "userId": "01650331348685570157"
     },
     "user_tz": 240
    },
    "id": "b2c44baa",
    "outputId": "811a4441-fb73-4dc7-bd96-2f0078964a60"
   },
   "outputs": [
    {
     "name": "stdout",
     "output_type": "stream",
     "text": [
      "v_z(x = 0.003 m) = 32.516 m/s\n"
     ]
    }
   ],
   "source": [
    "# posición de ejemplo\n",
    "x = delta/2 \n",
    "\n",
    "# Escribimos la ecuación\n",
    "v_z = rho * g * np.cos(beta) * delta**2 / (2*mu) * (1 - (x/delta)**2)\n",
    "\n",
    "# Imrpimimos el resultado\n",
    "print(\"v_z(x = %.3f m) = %.3f m/s\" % (x, v_z))"
   ]
  },
  {
   "cell_type": "markdown",
   "id": "fbc3a34f",
   "metadata": {
    "id": "fbc3a34f"
   },
   "source": [
    "### Con Numpy, también podemos evaluar la velocidad en un vector de posiciones. \n",
    "\n",
    "Esto se llam evaluación \"vectorizada\", y es computacionalmente más eficiente que iterar por una lista de posiciones. Para esto, en primer lugar debemos definir un vector de posiciones (NumPy Array). Hay muchas maneras de hacer esto. En este curso utilizaremos la función `np.linspace(x_0, x_f, n)`"
   ]
  },
  {
   "cell_type": "code",
   "execution_count": 4,
   "id": "b24f7d3d",
   "metadata": {
    "colab": {
     "base_uri": "https://localhost:8080/"
    },
    "executionInfo": {
     "elapsed": 5,
     "status": "ok",
     "timestamp": 1660943146154,
     "user": {
      "displayName": "Felipe Huerta Pérez",
      "userId": "01650331348685570157"
     },
     "user_tz": 240
    },
    "id": "b24f7d3d",
    "outputId": "7433bee5-6592-4630-b863-3082ec730e87"
   },
   "outputs": [
    {
     "name": "stdout",
     "output_type": "stream",
     "text": [
      "[0.00000000e+00 5.05050505e-05 1.01010101e-04 1.51515152e-04\n",
      " 2.02020202e-04 2.52525253e-04 3.03030303e-04 3.53535354e-04\n",
      " 4.04040404e-04 4.54545455e-04 5.05050505e-04 5.55555556e-04\n",
      " 6.06060606e-04 6.56565657e-04 7.07070707e-04 7.57575758e-04\n",
      " 8.08080808e-04 8.58585859e-04 9.09090909e-04 9.59595960e-04\n",
      " 1.01010101e-03 1.06060606e-03 1.11111111e-03 1.16161616e-03\n",
      " 1.21212121e-03 1.26262626e-03 1.31313131e-03 1.36363636e-03\n",
      " 1.41414141e-03 1.46464646e-03 1.51515152e-03 1.56565657e-03\n",
      " 1.61616162e-03 1.66666667e-03 1.71717172e-03 1.76767677e-03\n",
      " 1.81818182e-03 1.86868687e-03 1.91919192e-03 1.96969697e-03\n",
      " 2.02020202e-03 2.07070707e-03 2.12121212e-03 2.17171717e-03\n",
      " 2.22222222e-03 2.27272727e-03 2.32323232e-03 2.37373737e-03\n",
      " 2.42424242e-03 2.47474747e-03 2.52525253e-03 2.57575758e-03\n",
      " 2.62626263e-03 2.67676768e-03 2.72727273e-03 2.77777778e-03\n",
      " 2.82828283e-03 2.87878788e-03 2.92929293e-03 2.97979798e-03\n",
      " 3.03030303e-03 3.08080808e-03 3.13131313e-03 3.18181818e-03\n",
      " 3.23232323e-03 3.28282828e-03 3.33333333e-03 3.38383838e-03\n",
      " 3.43434343e-03 3.48484848e-03 3.53535354e-03 3.58585859e-03\n",
      " 3.63636364e-03 3.68686869e-03 3.73737374e-03 3.78787879e-03\n",
      " 3.83838384e-03 3.88888889e-03 3.93939394e-03 3.98989899e-03\n",
      " 4.04040404e-03 4.09090909e-03 4.14141414e-03 4.19191919e-03\n",
      " 4.24242424e-03 4.29292929e-03 4.34343434e-03 4.39393939e-03\n",
      " 4.44444444e-03 4.49494949e-03 4.54545455e-03 4.59595960e-03\n",
      " 4.64646465e-03 4.69696970e-03 4.74747475e-03 4.79797980e-03\n",
      " 4.84848485e-03 4.89898990e-03 4.94949495e-03 5.00000000e-03]\n"
     ]
    }
   ],
   "source": [
    "x_vec = np.linspace(0, delta, 100)\n",
    "print(x_vec)"
   ]
  },
  {
   "cell_type": "markdown",
   "id": "72cd412f",
   "metadata": {
    "id": "72cd412f"
   },
   "source": [
    "Esto genera cien puntos igualmente espaciados entre $x_0 = 0$ y $x_f = \\delta = 0.005 m$. Ahora podemos evaluar la expresión del perfil de velocidades sobre el vector."
   ]
  },
  {
   "cell_type": "code",
   "execution_count": 5,
   "id": "69a124ab",
   "metadata": {
    "colab": {
     "base_uri": "https://localhost:8080/"
    },
    "executionInfo": {
     "elapsed": 259,
     "status": "ok",
     "timestamp": 1660943152436,
     "user": {
      "displayName": "Felipe Huerta Pérez",
      "userId": "01650331348685570157"
     },
     "user_tz": 240
    },
    "id": "69a124ab",
    "outputId": "10a5618a-5a90-4138-8231-4c7b12bc652d"
   },
   "outputs": [
    {
     "name": "stdout",
     "output_type": "stream",
     "text": [
      "[43.35448452 43.35006105 43.33679062 43.31467324 43.28370891 43.24389763\n",
      " 43.1952394  43.13773422 43.07138208 42.996183   42.91213696 42.81924397\n",
      " 42.71750403 42.60691714 42.4874833  42.35920251 42.22207476 42.07610007\n",
      " 41.92127842 41.75760982 41.58509427 41.40373177 41.21352232 41.01446592\n",
      " 40.80656257 40.58981226 40.364215   40.1297708  39.88647964 39.63434153\n",
      " 39.37335647 39.10352445 38.82484549 38.53731957 38.24094671 37.93572689\n",
      " 37.62166012 37.2987464  36.96698573 36.62637811 36.27692353 35.91862201\n",
      " 35.55147353 35.17547811 34.79063573 34.3969464  33.99441012 33.58302688\n",
      " 33.1627967  32.73371957 32.29579548 31.84902444 31.39340645 30.92894151\n",
      " 30.45562962 29.97347078 29.48246499 28.98261224 28.47391255 27.9563659\n",
      " 27.4299723  26.89473175 26.35064425 25.7977098  25.23592839 24.66530004\n",
      " 24.08582473 23.49750248 22.90033327 22.29431711 21.679454   21.05574394\n",
      " 20.42318692 19.78178296 19.13153204 18.47243418 17.80448936 17.12769759\n",
      " 16.44205887 15.7475732  15.04424057 14.332061   13.61103447 12.881161\n",
      " 12.14244057 11.39487319 10.63845886  9.87319758  9.09908934  8.31613416\n",
      "  7.52433202  6.72368294  5.9141869   5.09584391  4.26865397  3.43261708\n",
      "  2.58773324  1.73400244  0.8714247   0.        ]\n"
     ]
    }
   ],
   "source": [
    "v_z = rho * g * np.cos(beta) * delta**2 / (2*mu) * (1 - (x_vec/delta)**2)\n",
    "print(v_z)"
   ]
  },
  {
   "cell_type": "markdown",
   "id": "ac24ca0b",
   "metadata": {
    "id": "ac24ca0b"
   },
   "source": [
    "## Gráficar"
   ]
  },
  {
   "cell_type": "markdown",
   "id": "b0979764",
   "metadata": {
    "id": "b0979764"
   },
   "source": [
    "En estos momentos estamos listos para poder gráficar el perfil de velocidad.\n",
    "* El comando más sencillo para graficar es `plot` desde matplotlib.\n",
    "* Para utilizarlo, debemos utilizar la sintáxis `plt.plot(x, y, **args)`."
   ]
  },
  {
   "cell_type": "code",
   "execution_count": 6,
   "id": "d77054db",
   "metadata": {
    "colab": {
     "base_uri": "https://localhost:8080/",
     "height": 265
    },
    "executionInfo": {
     "elapsed": 922,
     "status": "ok",
     "timestamp": 1660943155077,
     "user": {
      "displayName": "Felipe Huerta Pérez",
      "userId": "01650331348685570157"
     },
     "user_tz": 240
    },
    "id": "d77054db",
    "outputId": "ae915d92-5f4b-486c-b639-56021f48a4ca"
   },
   "outputs": [
    {
     "data": {
      "image/png": "[encoded data removed]",
      "text/plain": [
       "<Figure size 432x288 with 1 Axes>"
      ]
     },
     "metadata": {
      "needs_background": "light"
     },
     "output_type": "display_data"
    }
   ],
   "source": [
    "plt.plot(x_vec,v_z)\n",
    "plt.show()"
   ]
  },
  {
   "cell_type": "markdown",
   "id": "916c2aac",
   "metadata": {
    "id": "916c2aac"
   },
   "source": [
    "Agreguemos ahora algunos títulos a los ejes"
   ]
  },
  {
   "cell_type": "code",
   "execution_count": 7,
   "id": "f4069277",
   "metadata": {
    "colab": {
     "base_uri": "https://localhost:8080/",
     "height": 283
    },
    "executionInfo": {
     "elapsed": 1015,
     "status": "ok",
     "timestamp": 1660943156403,
     "user": {
      "displayName": "Felipe Huerta Pérez",
      "userId": "01650331348685570157"
     },
     "user_tz": 240
    },
    "id": "f4069277",
    "outputId": "cc1f4f43-39df-4904-f1ea-b69acf6f3973"
   },
   "outputs": [
    {
     "data": {
      "image/png": "[encoded data removed]",
      "text/plain": [
       "<Figure size 432x288 with 1 Axes>"
      ]
     },
     "metadata": {
      "needs_background": "light"
     },
     "output_type": "display_data"
    }
   ],
   "source": [
    "plt.plot(x_vec,v_z)\n",
    "# Agregamos título a los ejes y especificamos su tamaño\n",
    "plt.xlabel('Distancia desde la interfase / x', size=14)\n",
    "plt.ylabel('Velocidad / $m/s$', size = 14)\n",
    "plt.show()"
   ]
  },
  {
   "cell_type": "markdown",
   "id": "bf506bb8",
   "metadata": {
    "id": "bf506bb8"
   },
   "source": [
    "## Mejorar la calidad del código y del gráfico"
   ]
  },
  {
   "cell_type": "markdown",
   "id": "ff199ec1",
   "metadata": {
    "id": "ff199ec1"
   },
   "source": [
    "Si quisieramos utilizar el perfil de velocidad para distintos parámetros, sería útil definir la velocidad como una función. Esto haremos en esta sección. Para ello, utilizaremos la sintáxis de Python para definir funciones:"
   ]
  },
  {
   "cell_type": "code",
   "execution_count": 8,
   "id": "49bf44de",
   "metadata": {
    "executionInfo": {
     "elapsed": 4,
     "status": "ok",
     "timestamp": 1660943162031,
     "user": {
      "displayName": "Felipe Huerta Pérez",
      "userId": "01650331348685570157"
     },
     "user_tz": 240
    },
    "id": "49bf44de"
   },
   "outputs": [],
   "source": [
    "def v_z_film(x, rho, mu, delta, beta, g=9.81):\n",
    "    '''\n",
    "    Calcula la velocidad de un film descendente de un fluido\n",
    "    en un plano inclinado en un ángulo beta.\n",
    "    \n",
    "    Documentar el codigo\n",
    "    \n",
    "    '''\n",
    "    v = rho * g * np.cos(beta) * delta**2 / (2*mu) * (1 - (x/delta)**2)\n",
    "    return v"
   ]
  },
  {
   "cell_type": "code",
   "execution_count": 9,
   "id": "6a19d22d",
   "metadata": {
    "colab": {
     "base_uri": "https://localhost:8080/"
    },
    "executionInfo": {
     "elapsed": 4,
     "status": "ok",
     "timestamp": 1660943162904,
     "user": {
      "displayName": "Felipe Huerta Pérez",
      "userId": "01650331348685570157"
     },
     "user_tz": 240
    },
    "id": "6a19d22d",
    "outputId": "5a0244a9-559b-442f-a81e-756b593a192d"
   },
   "outputs": [
    {
     "data": {
      "text/plain": [
       "array([43.35448452, 43.35006105, 43.33679062, 43.31467324, 43.28370891,\n",
       "       43.24389763, 43.1952394 , 43.13773422, 43.07138208, 42.996183  ,\n",
       "       42.91213696, 42.81924397, 42.71750403, 42.60691714, 42.4874833 ,\n",
       "       42.35920251, 42.22207476, 42.07610007, 41.92127842, 41.75760982,\n",
       "       41.58509427, 41.40373177, 41.21352232, 41.01446592, 40.80656257,\n",
       "       40.58981226, 40.364215  , 40.1297708 , 39.88647964, 39.63434153,\n",
       "       39.37335647, 39.10352445, 38.82484549, 38.53731957, 38.24094671,\n",
       "       37.93572689, 37.62166012, 37.2987464 , 36.96698573, 36.62637811,\n",
       "       36.27692353, 35.91862201, 35.55147353, 35.17547811, 34.79063573,\n",
       "       34.3969464 , 33.99441012, 33.58302688, 33.1627967 , 32.73371957,\n",
       "       32.29579548, 31.84902444, 31.39340645, 30.92894151, 30.45562962,\n",
       "       29.97347078, 29.48246499, 28.98261224, 28.47391255, 27.9563659 ,\n",
       "       27.4299723 , 26.89473175, 26.35064425, 25.7977098 , 25.23592839,\n",
       "       24.66530004, 24.08582473, 23.49750248, 22.90033327, 22.29431711,\n",
       "       21.679454  , 21.05574394, 20.42318692, 19.78178296, 19.13153204,\n",
       "       18.47243418, 17.80448936, 17.12769759, 16.44205887, 15.7475732 ,\n",
       "       15.04424057, 14.332061  , 13.61103447, 12.881161  , 12.14244057,\n",
       "       11.39487319, 10.63845886,  9.87319758,  9.09908934,  8.31613416,\n",
       "        7.52433202,  6.72368294,  5.9141869 ,  5.09584391,  4.26865397,\n",
       "        3.43261708,  2.58773324,  1.73400244,  0.8714247 ,  0.        ])"
      ]
     },
     "execution_count": 9,
     "metadata": {},
     "output_type": "execute_result"
    }
   ],
   "source": [
    "v_z_film(x_vec, rho, mu, delta, beta)"
   ]
  },
  {
   "cell_type": "markdown",
   "id": "3c926e21",
   "metadata": {
    "id": "3c926e21"
   },
   "source": [
    "### Graficando el perfil para tres distintas inclinaciones"
   ]
  },
  {
   "cell_type": "code",
   "execution_count": 10,
   "id": "4cef974d",
   "metadata": {
    "executionInfo": {
     "elapsed": 1,
     "status": "ok",
     "timestamp": 1660943165530,
     "user": {
      "displayName": "Felipe Huerta Pérez",
      "userId": "01650331348685570157"
     },
     "user_tz": 240
    },
    "id": "4cef974d"
   },
   "outputs": [],
   "source": [
    "beta_1 = np.pi/4\n",
    "beta_2 = np.pi/6\n",
    "beta_3 = np.pi/8"
   ]
  },
  {
   "cell_type": "code",
   "execution_count": 11,
   "id": "bb4597aa",
   "metadata": {
    "colab": {
     "base_uri": "https://localhost:8080/",
     "height": 450
    },
    "executionInfo": {
     "elapsed": 673,
     "status": "ok",
     "timestamp": 1660943167244,
     "user": {
      "displayName": "Felipe Huerta Pérez",
      "userId": "01650331348685570157"
     },
     "user_tz": 240
    },
    "id": "bb4597aa",
    "outputId": "48963ad0-3f08-4d3e-aec1-872a22d5b221"
   },
   "outputs": [
    {
     "data": {
      "image/png": "[encoded data removed]",
      "text/plain": [
       "<Figure size 504x504 with 1 Axes>"
      ]
     },
     "metadata": {
      "needs_background": "light"
     },
     "output_type": "display_data"
    }
   ],
   "source": [
    "# Primer gráfico\n",
    "plt.figure(figsize=[7,7])\n",
    "plt.plot(x_vec, v_z_film(x_vec, rho, mu, delta, beta_1), \n",
    "         label=r'$\\beta = \\pi/4$')\n",
    "\n",
    "# Para agregar más gráficos, simplemente añadimos más instrucciones\n",
    "# plt.plot mediante líneas de código\n",
    "plt.plot(x_vec, v_z_film(x_vec, rho, mu, delta, beta_2),\n",
    "        label = r'$\\beta = \\pi/6$')\n",
    "\n",
    "plt.plot(x_vec, v_z_film(x_vec, rho, mu, delta, beta_3),\n",
    "        label = r'$\\beta = \\pi/8$')\n",
    "\n",
    "\n",
    "# Agregamos título a los ejes y especificamos su tamaño\n",
    "plt.xlabel('Distancia desde la interfase / x', size=14)\n",
    "plt.ylabel('Velocidad / $m/s$', size = 14)\n",
    "\n",
    "plt.tick_params(labelsize=14)\n",
    "plt.legend(fontsize=12)\n",
    "\n",
    "\n",
    "# Anotar la superficie\n",
    "plt.axvline(delta, ls='--', color='k')\n",
    "plt.annotate('Superficie', xy=(0.95*delta, 25), rotation=90, size=14)\n",
    "# Anotar la interface\n",
    "plt.axvline(0, ls='--', color='r')\n",
    "plt.annotate('Interfase L-V', xy=(delta*0.02, 25), rotation=90, size=14, color='r')\n",
    "plt.show()"
   ]
  },
  {
   "cell_type": "markdown",
   "id": "daeabb66",
   "metadata": {
    "id": "1268f6dc"
   },
   "source": [
    "## Cálculo de velocidad promedio"
   ]
  },
  {
   "cell_type": "markdown",
   "id": "48dd6558",
   "metadata": {
    "id": "06cd38ea"
   },
   "source": [
    "Sabemos que la velocidad promedio es\n",
    "\n",
    "$$ <v_z> = \\frac{\\rho g \\delta^2 cos(\\beta)}{3 \\mu}$$"
   ]
  },
  {
   "cell_type": "code",
   "execution_count": 12,
   "id": "595d0aa5",
   "metadata": {
    "colab": {
     "base_uri": "https://localhost:8080/"
    },
    "executionInfo": {
     "elapsed": 236,
     "status": "ok",
     "timestamp": 1660943157966,
     "user": {
      "displayName": "Felipe Huerta Pérez",
      "userId": "01650331348685570157"
     },
     "user_tz": 240
    },
    "id": "cb486ed4",
    "outputId": "1f418b5a-16d8-40b9-cbdf-d73ad21aee85"
   },
   "outputs": [
    {
     "name": "stdout",
     "output_type": "stream",
     "text": [
      "v_av, analítico = 2.89030e+01 m/s\n"
     ]
    }
   ],
   "source": [
    "# Definimos la expresión analítica para calcular v_z_an\n",
    "v_av_an = (rho * g * delta**2 *  np.cos(beta))/(3*mu)\n",
    "print(\"v_av, analítico = %.5e m/s\" % v_av_an)"
   ]
  },
  {
   "cell_type": "markdown",
   "id": "6122a154",
   "metadata": {
    "id": "54116e06"
   },
   "source": [
    "Para perfiles de velocidad más complejos, no necesariamente obtendremos una expresión analítica para evaluar la velocidad promedio. En estos casos, se sugiere utilizar un método numérico, tal como la [regla trapezoidal](https://www.khanacademy.org/math/ap-calculus-ab/ab-integration-new/ab-6-2/a/understanding-the-trapezoid-rule)."
   ]
  },
  {
   "cell_type": "code",
   "execution_count": 13,
   "id": "60e6eca0",
   "metadata": {},
   "outputs": [
    {
     "name": "stdout",
     "output_type": "stream",
     "text": [
      "v_av, numérico = 2.89023e+01 m/s\n"
     ]
    }
   ],
   "source": [
    "v_av_num = np.trapz(v_z,x_vec) / delta\n",
    "print(\"v_av, numérico = %.5e m/s\" % v_av_num)"
   ]
  },
  {
   "cell_type": "markdown",
   "id": "cf894653",
   "metadata": {
    "id": "62d764a5"
   },
   "source": [
    "Podemos calcular el error de discretización $\\epsilon$ obtenido al utilizar la regla trapezoidal,"
   ]
  },
  {
   "cell_type": "code",
   "execution_count": 14,
   "id": "e4c5936a",
   "metadata": {},
   "outputs": [
    {
     "name": "stdout",
     "output_type": "stream",
     "text": [
      "-0.0007372459361612016\n",
      "Error de discretización porcentual = -2.551e-03 %\n"
     ]
    }
   ],
   "source": [
    "eps = (v_av_num-v_av_an)\n",
    "print(eps)\n",
    "# También podemos calcular el error porcentual\n",
    "print(\"Error de discretización porcentual = %.3e %%\" % (100 * eps/v_av_num))"
   ]
  },
  {
   "cell_type": "markdown",
   "id": "a1add220",
   "metadata": {
    "id": "bd8078f1"
   },
   "source": [
    "Este error es directamente función del espaciamiento en la grilla computacional."
   ]
  },
  {
   "cell_type": "code",
   "execution_count": 15,
   "id": "5ede62b6",
   "metadata": {},
   "outputs": [
    {
     "name": "stdout",
     "output_type": "stream",
     "text": [
      "dx = 5.051e-05 m\n"
     ]
    }
   ],
   "source": [
    "dx = x_vec[1]-x_vec[0]\n",
    "print(\"dx = %.3e m\" % dx)"
   ]
  },
  {
   "cell_type": "markdown",
   "id": "af01acb2",
   "metadata": {
    "id": "ce4fa69f"
   },
   "source": [
    "### Disminuyendo el error de discretización"
   ]
  },
  {
   "cell_type": "code",
   "execution_count": 16,
   "id": "7c4c0482",
   "metadata": {},
   "outputs": [],
   "source": [
    "x_fino = np.linspace(0,delta,1000)"
   ]
  },
  {
   "cell_type": "code",
   "execution_count": 17,
   "id": "0c2e3cac",
   "metadata": {},
   "outputs": [
    {
     "name": "stdout",
     "output_type": "stream",
     "text": [
      "-7.240220618598414e-06\n",
      "Error de discretización porcentual = -2.505e-05 %\n"
     ]
    }
   ],
   "source": [
    "v_av_num_fino = np.trapz(v_z_film(x_fino, rho, mu, delta, beta), x_fino)/delta\n",
    "eps = (v_av_num_fino-v_av_an)\n",
    "print(eps)\n",
    "# También podemos calcular el error porcentual\n",
    "print(\"Error de discretización porcentual = %.3e %%\" % (100 * eps/v_av_num_fino))"
   ]
  },
  {
   "cell_type": "markdown",
   "id": "4aa708ae",
   "metadata": {
    "id": "4aa708ae"
   },
   "source": [
    "Más información sobre como anotar gráficos en Python:\n",
    "\n",
    "1.  [Matplotlib text annotations tutorial](\n",
    "https://matplotlib.org/stable/tutorials/text/annotations.html#sphx-glr-tutorials-text-annotations-py)\n",
    "\n",
    "2. [Python Data Science Handbook](https://jakevdp.github.io/PythonDataScienceHandbook/), sección 4 y apéndice\n"
   ]
  },
  {
   "cell_type": "code",
   "execution_count": null,
   "id": "lMkZdBXL7Wrw",
   "metadata": {
    "id": "lMkZdBXL7Wrw"
   },
   "outputs": [],
   "source": []
  }
 ],
 "metadata": {
  "colab": {
   "name": "S1_perfiles_velocidad.ipynb",
   "provenance": []
  },
  "kernelspec": {
   "display_name": "Python 3 (ipykernel)",
   "language": "python",
   "name": "python3"
  },
  "language_info": {
   "codemirror_mode": {
    "name": "ipython",
    "version": 3
   },
   "file_extension": ".py",
   "mimetype": "text/x-python",
   "name": "python",
   "nbconvert_exporter": "python",
   "pygments_lexer": "ipython3",
   "version": "3.9.12"
  }
 },
 "nbformat": 4,
 "nbformat_minor": 5
}
