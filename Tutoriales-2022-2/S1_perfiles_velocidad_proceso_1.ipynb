{
 "cells": [
  {
   "cell_type": "markdown",
   "id": "721554c7",
   "metadata": {
    "id": "721554c7"
   },
   "source": [
    "## Sesión 1: Perfiles de velocidad\n",
    "\n",
    "**Hotkeys útiles**: haciendo click fuera de la celda, es posible realizar una serie de operaciones con distintas combinaciones de letras:\n",
    "\n",
    "* Presionar A para agregar una celda sobre la celda actual \n",
    "* Presionar B para agregar una celda bajo la celda actual\n",
    "* Presionar dos veces D para eliminar una celda\n",
    "* Presionar `Shift+Enter` para ejecutar una celda\n",
    "* Presionar Y para cambiar una celda desde Markdown a Code\n",
    "* Presionar M para cambiar una celda desde Code a Markdown"
   ]
  },
  {
   "cell_type": "code",
   "execution_count": 1,
   "id": "0a953edc",
   "metadata": {
    "executionInfo": {
     "elapsed": 8,
     "status": "ok",
     "timestamp": 1660943146153,
     "user": {
      "displayName": "Felipe Huerta Pérez",
      "userId": "01650331348685570157"
     },
     "user_tz": 240
    },
    "id": "0a953edc"
   },
   "outputs": [],
   "source": [
    "# Importamos los paquetes que necesitamos\n",
    "\n"
   ]
  },
  {
   "cell_type": "markdown",
   "id": "acfe3174",
   "metadata": {
    "id": "acfe3174"
   },
   "source": [
    "## Preparar las variables computacionales"
   ]
  },
  {
   "cell_type": "code",
   "execution_count": 2,
   "id": "69c772a4",
   "metadata": {
    "executionInfo": {
     "elapsed": 7,
     "status": "ok",
     "timestamp": 1660943146154,
     "user": {
      "displayName": "Felipe Huerta Pérez",
      "userId": "01650331348685570157"
     },
     "user_tz": 240
    },
    "id": "69c772a4"
   },
   "outputs": [],
   "source": [
    "# Definimos las variables\n",
    "\n"
   ]
  },
  {
   "cell_type": "markdown",
   "id": "41f62a07",
   "metadata": {
    "id": "41f62a07"
   },
   "source": [
    "Primero evaluaremos la velocidad en una posición particular"
   ]
  },
  {
   "cell_type": "code",
   "execution_count": 3,
   "id": "b2c44baa",
   "metadata": {
    "colab": {
     "base_uri": "https://localhost:8080/"
    },
    "executionInfo": {
     "elapsed": 7,
     "status": "ok",
     "timestamp": 1660943146154,
     "user": {
      "displayName": "Felipe Huerta Pérez",
      "userId": "01650331348685570157"
     },
     "user_tz": 240
    },
    "id": "b2c44baa",
    "outputId": "811a4441-fb73-4dc7-bd96-2f0078964a60"
   },
   "outputs": [],
   "source": [
    "# posición de ejemplo\n",
    "\n",
    "\n",
    "# Escribimos la ecuación\n",
    "\n",
    "\n",
    "# Imrpimimos el resultado\n"
   ]
  },
  {
   "cell_type": "markdown",
   "id": "fbc3a34f",
   "metadata": {
    "id": "fbc3a34f"
   },
   "source": [
    "### Con Numpy, también podemos evaluar la velocidad en un vector de posiciones. \n",
    "\n",
    "Esto se llam evaluación \"vectorizada\", y es computacionalmente más eficiente que iterar por una lista de posiciones. Para esto, en primer lugar debemos definir un vector de posiciones (NumPy Array). Hay muchas maneras de hacer esto. En este curso utilizaremos la función `np.linspace(x_0, x_f, n)`"
   ]
  },
  {
   "cell_type": "code",
   "execution_count": 4,
   "id": "b24f7d3d",
   "metadata": {
    "colab": {
     "base_uri": "https://localhost:8080/"
    },
    "executionInfo": {
     "elapsed": 5,
     "status": "ok",
     "timestamp": 1660943146154,
     "user": {
      "displayName": "Felipe Huerta Pérez",
      "userId": "01650331348685570157"
     },
     "user_tz": 240
    },
    "id": "b24f7d3d",
    "outputId": "7433bee5-6592-4630-b863-3082ec730e87"
   },
   "outputs": [],
   "source": [
    "# Creamos un vector de 100 elementos igualmente espaciados entre 0 y delta\n",
    "\n",
    "\n",
    "# Imprimimos el vector para asegurarnos que estamos haciendo lo correcto\n"
   ]
  },
  {
   "cell_type": "markdown",
   "id": "72cd412f",
   "metadata": {
    "id": "72cd412f"
   },
   "source": [
    "Esto genera cien puntos igualmente espaciados entre $x_0 = 0$ y $x_f = \\delta = 0.005 m$. Ahora podemos evaluar la expresión del perfil de velocidades sobre el vector."
   ]
  },
  {
   "cell_type": "code",
   "execution_count": 5,
   "id": "69a124ab",
   "metadata": {
    "colab": {
     "base_uri": "https://localhost:8080/"
    },
    "executionInfo": {
     "elapsed": 259,
     "status": "ok",
     "timestamp": 1660943152436,
     "user": {
      "displayName": "Felipe Huerta Pérez",
      "userId": "01650331348685570157"
     },
     "user_tz": 240
    },
    "id": "69a124ab",
    "outputId": "10a5618a-5a90-4138-8231-4c7b12bc652d"
   },
   "outputs": [],
   "source": [
    "# Evaluamos el perfil de velocidad en todas las posiciones contenidas en el np.array x_vec\n",
    "\n",
    "\n",
    "# Imprimimos la velocidad calculada\n"
   ]
  },
  {
   "cell_type": "markdown",
   "id": "ac24ca0b",
   "metadata": {
    "id": "ac24ca0b"
   },
   "source": [
    "## Gráficar"
   ]
  },
  {
   "cell_type": "markdown",
   "id": "b0979764",
   "metadata": {
    "id": "b0979764"
   },
   "source": [
    "En estos momentos estamos listos para poder gráficar el perfil de velocidad.\n",
    "* El comando más sencillo para graficar es `plot` desde matplotlib.\n",
    "* Para utilizarlo, debemos utilizar la sintáxis `plt.plot(x, y, **args)`."
   ]
  },
  {
   "cell_type": "code",
   "execution_count": 6,
   "id": "d77054db",
   "metadata": {
    "colab": {
     "base_uri": "https://localhost:8080/",
     "height": 265
    },
    "executionInfo": {
     "elapsed": 922,
     "status": "ok",
     "timestamp": 1660943155077,
     "user": {
      "displayName": "Felipe Huerta Pérez",
      "userId": "01650331348685570157"
     },
     "user_tz": 240
    },
    "id": "d77054db",
    "outputId": "ae915d92-5f4b-486c-b639-56021f48a4ca"
   },
   "outputs": [],
   "source": [
    "# Sintáxis básica usando plt.plot\n",
    "\n"
   ]
  },
  {
   "cell_type": "markdown",
   "id": "916c2aac",
   "metadata": {
    "id": "916c2aac"
   },
   "source": [
    "Agreguemos ahora algunos títulos a los ejes"
   ]
  },
  {
   "cell_type": "code",
   "execution_count": 7,
   "id": "f4069277",
   "metadata": {
    "colab": {
     "base_uri": "https://localhost:8080/",
     "height": 283
    },
    "executionInfo": {
     "elapsed": 1015,
     "status": "ok",
     "timestamp": 1660943156403,
     "user": {
      "displayName": "Felipe Huerta Pérez",
      "userId": "01650331348685570157"
     },
     "user_tz": 240
    },
    "id": "f4069277",
    "outputId": "cc1f4f43-39df-4904-f1ea-b69acf6f3973"
   },
   "outputs": [],
   "source": [
    "# Gráfico inicial\n",
    "\n",
    "\n",
    "# Agregamos título a los ejes y especificamos su tamaño\n",
    "\n",
    "\n",
    "# Mostramos el gráfico\n"
   ]
  },
  {
   "cell_type": "markdown",
   "id": "bf506bb8",
   "metadata": {
    "id": "bf506bb8"
   },
   "source": [
    "## Mejorar la calidad del código y del gráfico"
   ]
  },
  {
   "cell_type": "markdown",
   "id": "ff199ec1",
   "metadata": {
    "id": "ff199ec1"
   },
   "source": [
    "Si quisieramos utilizar el perfil de velocidad para distintos parámetros, sería útil definir la velocidad como una función. Esto haremos en esta sección. Para ello, utilizaremos la sintáxis de Python para definir funciones:"
   ]
  },
  {
   "cell_type": "code",
   "execution_count": 8,
   "id": "49bf44de",
   "metadata": {
    "executionInfo": {
     "elapsed": 4,
     "status": "ok",
     "timestamp": 1660943162031,
     "user": {
      "displayName": "Felipe Huerta Pérez",
      "userId": "01650331348685570157"
     },
     "user_tz": 240
    },
    "id": "49bf44de"
   },
   "outputs": [],
   "source": [
    "# Definimos la función para calcular la velocidad del film\n",
    "\n"
   ]
  },
  {
   "cell_type": "code",
   "execution_count": 9,
   "id": "6a19d22d",
   "metadata": {
    "colab": {
     "base_uri": "https://localhost:8080/"
    },
    "executionInfo": {
     "elapsed": 4,
     "status": "ok",
     "timestamp": 1660943162904,
     "user": {
      "displayName": "Felipe Huerta Pérez",
      "userId": "01650331348685570157"
     },
     "user_tz": 240
    },
    "id": "6a19d22d",
    "outputId": "5a0244a9-559b-442f-a81e-756b593a192d"
   },
   "outputs": [],
   "source": [
    "# Testeamos nuestra implementación\n",
    "\n"
   ]
  },
  {
   "cell_type": "markdown",
   "id": "3c926e21",
   "metadata": {
    "id": "3c926e21"
   },
   "source": [
    "### Graficando el perfil para tres distintas inclinaciones"
   ]
  },
  {
   "cell_type": "code",
   "execution_count": 10,
   "id": "4cef974d",
   "metadata": {
    "executionInfo": {
     "elapsed": 1,
     "status": "ok",
     "timestamp": 1660943165530,
     "user": {
      "displayName": "Felipe Huerta Pérez",
      "userId": "01650331348685570157"
     },
     "user_tz": 240
    },
    "id": "4cef974d"
   },
   "outputs": [],
   "source": [
    "# Definimos tres inclinaciones\n"
   ]
  },
  {
   "cell_type": "code",
   "execution_count": 11,
   "id": "bb4597aa",
   "metadata": {
    "colab": {
     "base_uri": "https://localhost:8080/",
     "height": 450
    },
    "executionInfo": {
     "elapsed": 673,
     "status": "ok",
     "timestamp": 1660943167244,
     "user": {
      "displayName": "Felipe Huerta Pérez",
      "userId": "01650331348685570157"
     },
     "user_tz": 240
    },
    "id": "bb4597aa",
    "outputId": "48963ad0-3f08-4d3e-aec1-872a22d5b221",
    "scrolled": false
   },
   "outputs": [],
   "source": [
    "# Primer gráfico\n",
    "\n",
    "\n",
    "# Para agregar más gráficos, simplemente añadimos más instrucciones\n",
    "# plt.plot mediante líneas de código\n",
    "\n",
    "\n",
    "\n",
    "\n",
    "\n",
    "# Agregamos título a los ejes y especificamos su tamaño\n",
    "\n",
    "\n",
    "\n",
    "\n",
    "\n",
    "# Anotar la superficie\n",
    "\n",
    "\n",
    "# Anotar la interface\n",
    "\n"
   ]
  },
  {
   "cell_type": "markdown",
   "id": "22948c1a",
   "metadata": {
    "id": "1268f6dc"
   },
   "source": [
    "## Cálculo de velocidad promedio"
   ]
  },
  {
   "cell_type": "markdown",
   "id": "fdb981de",
   "metadata": {
    "id": "06cd38ea"
   },
   "source": [
    "Sabemos que la velocidad promedio es\n",
    "\n",
    "$$ <v_z> = \\frac{\\rho g \\delta^2 cos(\\beta)}{3 \\mu}$$"
   ]
  },
  {
   "cell_type": "code",
   "execution_count": 12,
   "id": "478bb47f",
   "metadata": {
    "colab": {
     "base_uri": "https://localhost:8080/"
    },
    "executionInfo": {
     "elapsed": 236,
     "status": "ok",
     "timestamp": 1660943157966,
     "user": {
      "displayName": "Felipe Huerta Pérez",
      "userId": "01650331348685570157"
     },
     "user_tz": 240
    },
    "id": "cb486ed4",
    "outputId": "1f418b5a-16d8-40b9-cbdf-d73ad21aee85"
   },
   "outputs": [],
   "source": [
    "# Definimos la expresión analítica para calcular v_z_an\n",
    "\n"
   ]
  },
  {
   "cell_type": "markdown",
   "id": "08561626",
   "metadata": {
    "id": "54116e06"
   },
   "source": [
    "Para perfiles de velocidad más complejos, no necesariamente obtendremos una expresión analítica para evaluar la velocidad promedio. En estos casos, se sugiere utilizar un método numérico, tal como la [regla trapezoidal](https://www.khanacademy.org/math/ap-calculus-ab/ab-integration-new/ab-6-2/a/understanding-the-trapezoid-rule).\n",
    "\n",
    "Afortunadamente, este método numérico ya está implementado en NumPy mediante la sintáxis `np.trapz(y, x_array)`.\n"
   ]
  },
  {
   "cell_type": "code",
   "execution_count": 13,
   "id": "9f0be8fe",
   "metadata": {
    "colab": {
     "base_uri": "https://localhost:8080/"
    },
    "executionInfo": {
     "elapsed": 1,
     "status": "ok",
     "timestamp": 1660943159226,
     "user": {
      "displayName": "Felipe Huerta Pérez",
      "userId": "01650331348685570157"
     },
     "user_tz": 240
    },
    "id": "371ea359",
    "outputId": "3674410f-701d-4f40-df57-f6c6c3d268c7"
   },
   "outputs": [],
   "source": [
    "# Utilizamos np.trapz\n"
   ]
  },
  {
   "cell_type": "markdown",
   "id": "e169e010",
   "metadata": {
    "id": "62d764a5"
   },
   "source": [
    "Podemos calcular el error de discretización $\\epsilon$ obtenido al utilizar la regla trapezoidal,"
   ]
  },
  {
   "cell_type": "code",
   "execution_count": 14,
   "id": "8ab49748",
   "metadata": {
    "colab": {
     "base_uri": "https://localhost:8080/"
    },
    "executionInfo": {
     "elapsed": 13,
     "status": "ok",
     "timestamp": 1660943160039,
     "user": {
      "displayName": "Felipe Huerta Pérez",
      "userId": "01650331348685570157"
     },
     "user_tz": 240
    },
    "id": "555b4df6",
    "outputId": "410b32bf-3b71-4e87-ed6e-3b1f0c43f64a"
   },
   "outputs": [],
   "source": [
    "\n",
    "# También podemos calcular el error porcentual\n"
   ]
  },
  {
   "cell_type": "markdown",
   "id": "049ddbe5",
   "metadata": {
    "id": "bd8078f1"
   },
   "source": [
    "Este error es directamente función del espaciamiento en la grilla computacional."
   ]
  },
  {
   "cell_type": "code",
   "execution_count": 15,
   "id": "60de77b7",
   "metadata": {
    "colab": {
     "base_uri": "https://localhost:8080/"
    },
    "executionInfo": {
     "elapsed": 2,
     "status": "ok",
     "timestamp": 1660943160897,
     "user": {
      "displayName": "Felipe Huerta Pérez",
      "userId": "01650331348685570157"
     },
     "user_tz": 240
    },
    "id": "f381d7f4",
    "outputId": "1723cff5-6d5b-457c-87fd-213d96220728",
    "scrolled": true
   },
   "outputs": [],
   "source": [
    "# Definición de espaciamiento entre los elementos del vector, dx\n"
   ]
  },
  {
   "cell_type": "markdown",
   "id": "d2469d8a",
   "metadata": {
    "id": "ce4fa69f"
   },
   "source": [
    "### Disminuyendo el error de discretización"
   ]
  },
  {
   "cell_type": "code",
   "execution_count": 16,
   "id": "5d1e6ffe",
   "metadata": {
    "executionInfo": {
     "elapsed": 3,
     "status": "ok",
     "timestamp": 1660943164330,
     "user": {
      "displayName": "Felipe Huerta Pérez",
      "userId": "01650331348685570157"
     },
     "user_tz": 240
    },
    "id": "8d67ef99"
   },
   "outputs": [],
   "source": [
    "# Creación de una grilla más fina\n",
    "\n"
   ]
  },
  {
   "cell_type": "code",
   "execution_count": 17,
   "id": "aae0a575",
   "metadata": {
    "colab": {
     "base_uri": "https://localhost:8080/"
    },
    "executionInfo": {
     "elapsed": 1,
     "status": "ok",
     "timestamp": 1660943164536,
     "user": {
      "displayName": "Felipe Huerta Pérez",
      "userId": "01650331348685570157"
     },
     "user_tz": 240
    },
    "id": "b0ac46c6",
    "outputId": "fe2c0844-489d-4523-d677-57e75c974097",
    "scrolled": true
   },
   "outputs": [],
   "source": [
    "# Cálculo de la velocidad promedio utilizando grilla más fina\n",
    "\n",
    "\n",
    "# También podemos calcular el error porcentual\n"
   ]
  },
  {
   "cell_type": "markdown",
   "id": "4aa708ae",
   "metadata": {
    "id": "4aa708ae"
   },
   "source": [
    "Más información sobre como anotar gráficos en Python:\n",
    "\n",
    "1.  [Matplotlib text annotations tutorial](\n",
    "https://matplotlib.org/stable/tutorials/text/annotations.html#sphx-glr-tutorials-text-annotations-py)\n",
    "\n",
    "2. [Python Data Science Handbook](https://jakevdp.github.io/PythonDataScienceHandbook/), sección 4 y apéndice\n"
   ]
  }
 ],
 "metadata": {
  "colab": {
   "name": "S1_perfiles_velocidad.ipynb",
   "provenance": []
  },
  "kernelspec": {
   "display_name": "Python 3 (ipykernel)",
   "language": "python",
   "name": "python3"
  },
  "language_info": {
   "codemirror_mode": {
    "name": "ipython",
    "version": 3
   },
   "file_extension": ".py",
   "mimetype": "text/x-python",
   "name": "python",
   "nbconvert_exporter": "python",
   "pygments_lexer": "ipython3",
   "version": "3.9.12"
  }
 },
 "nbformat": 4,
 "nbformat_minor": 5
}
