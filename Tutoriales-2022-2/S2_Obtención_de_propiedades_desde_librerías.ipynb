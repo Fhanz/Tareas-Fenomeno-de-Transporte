{
 "cells": [
  {
   "cell_type": "markdown",
   "id": "c761f558",
   "metadata": {},
   "source": [
    "# Sesión 2: Librería *ht* para transferencia de calor"
   ]
  },
  {
   "cell_type": "markdown",
   "id": "b5333806",
   "metadata": {},
   "source": [
    "Instalación del paquete *ht* mediante la ejecuación del código ***pip install ht*** en el *prompt*."
   ]
  },
  {
   "cell_type": "code",
   "execution_count": 1,
   "id": "2e127b98",
   "metadata": {},
   "outputs": [],
   "source": [
    "# Importar la librería\n",
    "import ht"
   ]
  },
  {
   "cell_type": "markdown",
   "id": "76ff1f91",
   "metadata": {},
   "source": [
    "Revisar documentación en el sitio web: *https://ht.readthedocs.io/en/latest/index.html*. En particular en esta sesión veremos cómo extraer propiedades físicas de sólidos desde la librería"
   ]
  },
  {
   "cell_type": "markdown",
   "id": "2fd4e081",
   "metadata": {},
   "source": [
    "## Búsqueda material"
   ]
  },
  {
   "cell_type": "code",
   "execution_count": 5,
   "id": "ef4133c4",
   "metadata": {},
   "outputs": [
    {
     "name": "stdout",
     "output_type": "stream",
     "text": [
      "El material con mayor similitud de nombre es:  Magnesia\n"
     ]
    }
   ],
   "source": [
    "# Búsqueda de material similar en base de datos\n",
    "mat = ht.nearest_material('magnesia')\n",
    "print('El material con mayor similitud de nombre es: ', mat)"
   ]
  },
  {
   "cell_type": "markdown",
   "id": "ee5e44d5",
   "metadata": {},
   "source": [
    "## Obtención de propiedades"
   ]
  },
  {
   "cell_type": "code",
   "execution_count": 14,
   "id": "b5fe1cea",
   "metadata": {},
   "outputs": [
    {
     "name": "stdout",
     "output_type": "stream",
     "text": [
      "La densidad del material es:  3000.0  kg/m3\n"
     ]
    }
   ],
   "source": [
    "# Densidad del material\n",
    "rho = ht.rho_material(mat)\n",
    "print('La densidad del material es: ', rho, ' kg/m3')"
   ]
  },
  {
   "cell_type": "markdown",
   "id": "9b3a7e6e",
   "metadata": {},
   "source": [
    "También permite obtener el calor específico del material a disintas temperaturas:"
   ]
  },
  {
   "cell_type": "code",
   "execution_count": 3,
   "id": "c1407b85",
   "metadata": {},
   "outputs": [
    {
     "name": "stdout",
     "output_type": "stream",
     "text": [
      "El calor específico del material a 800 K es:  1073.00425  W/m K\n",
      "El calor específico del material a 1200 K es:  1145.93025  W/m K\n"
     ]
    }
   ],
   "source": [
    "# Calor específico del material a disintas temperaturas\n",
    "cp_1 = ht.Cp_material(mat, 800)\n",
    "cp_2 = ht.Cp_material(mat, 1200)\n",
    "print('El calor específico del material a 800 K es: ', cp_1, ' W/m K')\n",
    "print('El calor específico del material a 1200 K es: ', cp_2, ' W/m K')"
   ]
  },
  {
   "cell_type": "markdown",
   "id": "aa7b4692",
   "metadata": {},
   "source": [
    "También es posible encontrar otras propiedades como lo es la conductividad térmica"
   ]
  }
 ],
 "metadata": {
  "kernelspec": {
   "display_name": "Python 3 (ipykernel)",
   "language": "python",
   "name": "python3"
  },
  "language_info": {
   "codemirror_mode": {
    "name": "ipython",
    "version": 3
   },
   "file_extension": ".py",
   "mimetype": "text/x-python",
   "name": "python",
   "nbconvert_exporter": "python",
   "pygments_lexer": "ipython3",
   "version": "3.9.12"
  }
 },
 "nbformat": 4,
 "nbformat_minor": 5
}
