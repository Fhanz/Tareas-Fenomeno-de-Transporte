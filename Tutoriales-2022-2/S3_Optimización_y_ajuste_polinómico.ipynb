{
 "cells": [
  {
   "cell_type": "markdown",
   "id": "ec7ee1c2",
   "metadata": {},
   "source": [
    "# Sesión 3: Optimización y ajuste polinómico"
   ]
  },
  {
   "cell_type": "code",
   "execution_count": 1,
   "id": "9f2a1a97",
   "metadata": {},
   "outputs": [],
   "source": [
    "# Importar la librerías a utilizar\n",
    "import math\n",
    "import matplotlib as mpl\n",
    "import matplotlib.pyplot as plt\n",
    "import numpy as np\n",
    "import scipy.optimize as spi_op"
   ]
  },
  {
   "cell_type": "markdown",
   "id": "0f7e14b3",
   "metadata": {},
   "source": [
    "## Creación de datos para la sesión"
   ]
  },
  {
   "cell_type": "markdown",
   "id": "3ed8452e",
   "metadata": {},
   "source": [
    "Se crean datos para una función cuadrática de tipo $f(x) = y = A*x^2 + B*x + C$ y se grafica"
   ]
  },
  {
   "cell_type": "code",
   "execution_count": 2,
   "id": "5e2b44e4",
   "metadata": {},
   "outputs": [
    {
     "data": {
      "image/png": "[encoded data removed]",
      "text/plain": [
       "<Figure size 432x288 with 1 Axes>"
      ]
     },
     "metadata": {
      "needs_background": "light"
     },
     "output_type": "display_data"
    }
   ],
   "source": [
    "# Coeficientes\n",
    "A = 1\n",
    "B = 10\n",
    "C = 5\n",
    "\n",
    "# variables x e y\n",
    "x = np.linspace(-20, 20, 21)\n",
    "y = np.array(A*x**2 + B*x + C)\n",
    "\n",
    "# Se grafican los datos\n",
    "plt.plot(x, y, 'b.', lw=2)\n",
    "plt.grid(True)\n",
    "plt.xlabel('y')\n",
    "plt.ylabel('x')\n",
    "plt.show()"
   ]
  },
  {
   "cell_type": "markdown",
   "id": "ee515617",
   "metadata": {},
   "source": [
    "## Optimización"
   ]
  },
  {
   "cell_type": "markdown",
   "id": "d0dfaf48",
   "metadata": {},
   "source": [
    "Al observar el gráfico se puede ver que el mínimo *y* se encuentra cercano al $x = -5$. También en este caso es sencillo calcular la derivada de la función, la cual es $f(x) = 2*A*x + B$. Al igualar a 0 para encontrar el mínimo queda $x = - \\frac{B}{2A}$, lo que en este caso efectivamente resulta $x = -5$."
   ]
  },
  {
   "cell_type": "markdown",
   "id": "57f59004",
   "metadata": {},
   "source": [
    "Si bien este caso es sencillo, muchas veces veremos casos que no es posible encontrar el mínimo de una función. Es por esto que existen métodos de optimización para resolver este tipo de problemas. A modo de ejemplo, minimizaremos la misma función y veremos si el resultado coincide con lo calculado anteriormente."
   ]
  },
  {
   "cell_type": "code",
   "execution_count": 3,
   "id": "a55c3df2",
   "metadata": {},
   "outputs": [],
   "source": [
    "# Definición de la función\n",
    "def f(x):\n",
    "    return A*x**2 + B*x + C"
   ]
  },
  {
   "cell_type": "markdown",
   "id": "a3db6f14",
   "metadata": {},
   "source": [
    "Se procede a minimizar la función mediante *minimize_scalar* (*https://docs.scipy.org/doc/scipy/reference/generated/scipy.optimize.minimize_scalar.html#scipy.optimize.minimize_scalar*), este permite minimizar una función que depende sólo de una variable."
   ]
  },
  {
   "cell_type": "code",
   "execution_count": 4,
   "id": "82a00d8f",
   "metadata": {},
   "outputs": [
    {
     "data": {
      "text/plain": [
       "     fun: -20.0\n",
       "    nfev: 10\n",
       "     nit: 4\n",
       " success: True\n",
       "       x: -5.000000000000003"
      ]
     },
     "execution_count": 4,
     "metadata": {},
     "output_type": "execute_result"
    }
   ],
   "source": [
    "# Minimización de la función con método 1\n",
    "op1 = spi_op.minimize_scalar(f, tol=1e-7)\n",
    "op1"
   ]
  },
  {
   "cell_type": "markdown",
   "id": "f607cac6",
   "metadata": {},
   "source": [
    "Desde el resultado se puede extraer el valor de la variable independiente que optimiza la función."
   ]
  },
  {
   "cell_type": "code",
   "execution_count": 5,
   "id": "023b07c5",
   "metadata": {},
   "outputs": [
    {
     "data": {
      "text/plain": [
       "-5.000000000000003"
      ]
     },
     "execution_count": 5,
     "metadata": {},
     "output_type": "execute_result"
    }
   ],
   "source": [
    "# Extracción del resultado\n",
    "op1.x"
   ]
  },
  {
   "cell_type": "markdown",
   "id": "a58f687b",
   "metadata": {},
   "source": [
    "Otra opción es utilizar la función *minimize* (*https://docs.scipy.org/doc/scipy/reference/generated/scipy.optimize.minimize.html#scipy.optimize.minimize*), la cual se diferencia en que es capaz de trabajar con funciones que dependen de más de una variable"
   ]
  },
  {
   "cell_type": "code",
   "execution_count": 6,
   "id": "d7533a79",
   "metadata": {},
   "outputs": [
    {
     "data": {
      "text/plain": [
       "      fun: -19.99999999999999\n",
       " hess_inv: array([[0.50000001]])\n",
       "      jac: array([-2.38418579e-07])\n",
       "  message: 'Optimization terminated successfully.'\n",
       "     nfev: 8\n",
       "      nit: 3\n",
       "     njev: 4\n",
       "   status: 0\n",
       "  success: True\n",
       "        x: array([-5.00000009])"
      ]
     },
     "execution_count": 6,
     "metadata": {},
     "output_type": "execute_result"
    }
   ],
   "source": [
    "# Minimización de la función con método 2\n",
    "op2 = spi_op.minimize(f, 1)\n",
    "op2"
   ]
  },
  {
   "cell_type": "markdown",
   "id": "ccc27a18",
   "metadata": {},
   "source": [
    "## Ajuste polinómico"
   ]
  },
  {
   "cell_type": "markdown",
   "id": "026b3310",
   "metadata": {},
   "source": [
    "La optimización también nos sirve para encontrar parámetros de funciones a partir de datos previos. En este caso se encontrarán los parámetros de la eucación cuadrática a partir de la minimización del error, en este caso utilizaremos el *mean absolute error* (MAE): $MAE = \\frac{1}{n} \\sum_{i=1}^n |y_{real} - y_{ajustado}|$"
   ]
  },
  {
   "cell_type": "code",
   "execution_count": 8,
   "id": "aa6f99e7",
   "metadata": {},
   "outputs": [],
   "source": [
    "# Creación de la función a minimizar\n",
    "def g(z, args = (x,y)):\n",
    "    aux = y - (z[0]*x**2 + z[1]*x + z[2])\n",
    "    return sum(abs(aux))/21"
   ]
  },
  {
   "cell_type": "markdown",
   "id": "fbbf55f1",
   "metadata": {},
   "source": [
    "Se minimiza la función para encontrar los parámetros de la función cuadrática"
   ]
  },
  {
   "cell_type": "code",
   "execution_count": 9,
   "id": "0f3230cb",
   "metadata": {},
   "outputs": [
    {
     "data": {
      "text/plain": [
       "      fun: 1.59877211152499e-06\n",
       " hess_inv: array([[ 1.89294460e-10,  1.24327732e-10, -5.25682760e-09],\n",
       "       [ 1.24327732e-10,  3.12592959e-08, -2.45859666e-08],\n",
       "       [-5.25682760e-09, -2.45859666e-08,  6.02790427e-07]])\n",
       "      jac: array([ 7.7482832 , -0.03432955,  0.0132895 ])\n",
       "  message: 'Desired error not necessarily achieved due to precision loss.'\n",
       "     nfev: 292\n",
       "      nit: 30\n",
       "     njev: 70\n",
       "   status: 2\n",
       "  success: False\n",
       "        x: array([0.99999999, 9.99999998, 5.00000166])"
      ]
     },
     "execution_count": 9,
     "metadata": {},
     "output_type": "execute_result"
    }
   ],
   "source": [
    "# Minimización de la función con método 2\n",
    "op3 = spi_op.minimize(g, [1, 1, 1])\n",
    "op3"
   ]
  },
  {
   "cell_type": "markdown",
   "id": "d28863ea",
   "metadata": {},
   "source": [
    "Se extraen los parámetros"
   ]
  },
  {
   "cell_type": "code",
   "execution_count": 10,
   "id": "da02bc85",
   "metadata": {},
   "outputs": [
    {
     "data": {
      "text/plain": [
       "array([0.99999999, 9.99999998, 5.00000166])"
      ]
     },
     "execution_count": 10,
     "metadata": {},
     "output_type": "execute_result"
    }
   ],
   "source": [
    "# Extracción del resultado\n",
    "op3.x"
   ]
  },
  {
   "cell_type": "markdown",
   "id": "ba84a711",
   "metadata": {},
   "source": [
    "También se podría haber utilizado diferentes medidas cuantitativas de error de un modelo, como la diferencia de cuadrados, los errores porcentuales u otra"
   ]
  },
  {
   "cell_type": "markdown",
   "id": "a99b5182",
   "metadata": {},
   "source": [
    "Finalmente, comentar que python posee la función *polyfit* (*https://numpy.org/doc/stable/reference/generated/numpy.polyfit.html*) que permite ajustar los coeficientes de los polinomios directamente. Por detrás esta función utiliza métodos de optimización como el mencionado anteriormente"
   ]
  },
  {
   "cell_type": "code",
   "execution_count": 11,
   "id": "588b855e",
   "metadata": {},
   "outputs": [
    {
     "data": {
      "text/plain": [
       "array([ 1., 10.,  5.])"
      ]
     },
     "execution_count": 11,
     "metadata": {},
     "output_type": "execute_result"
    }
   ],
   "source": [
    "# Metodología con función de python\n",
    "np.polyfit(x, y, 2)"
   ]
  },
  {
   "cell_type": "code",
   "execution_count": null,
   "id": "57ec59eb",
   "metadata": {},
   "outputs": [],
   "source": []
  }
 ],
 "metadata": {
  "kernelspec": {
   "display_name": "Python 3 (ipykernel)",
   "language": "python",
   "name": "python3"
  },
  "language_info": {
   "codemirror_mode": {
    "name": "ipython",
    "version": 3
   },
   "file_extension": ".py",
   "mimetype": "text/x-python",
   "name": "python",
   "nbconvert_exporter": "python",
   "pygments_lexer": "ipython3",
   "version": "3.9.12"
  }
 },
 "nbformat": 4,
 "nbformat_minor": 5
}
