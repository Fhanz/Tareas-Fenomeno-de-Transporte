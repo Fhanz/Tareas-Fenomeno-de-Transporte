{
 "cells": [
  {
   "cell_type": "markdown",
   "id": "908e0715",
   "metadata": {},
   "source": [
    "# Sesión 4: Resolución de EDOs con Python 1"
   ]
  },
  {
   "cell_type": "code",
   "execution_count": 1,
   "id": "05aeb4a1",
   "metadata": {},
   "outputs": [],
   "source": [
    "# Importar librerías a utilizar\n",
    "import math\n",
    "import matplotlib as mpl\n",
    "import matplotlib.pyplot as plt\n",
    "import numpy as np\n",
    "import scipy.integrate as spi"
   ]
  },
  {
   "cell_type": "markdown",
   "id": "4537945f",
   "metadata": {},
   "source": [
    "El *solver* a utilizar es *solve_ivp* de *scipy.integrate*, la documentación se puede encontrar en *https://docs.scipy.org/doc/scipy/reference/generated/scipy.integrate.solve_ivp.html*"
   ]
  },
  {
   "cell_type": "markdown",
   "id": "eb5e2c11",
   "metadata": {},
   "source": [
    "## Ejemplo 1"
   ]
  },
  {
   "cell_type": "markdown",
   "id": "81dba80f",
   "metadata": {},
   "source": [
    "Analicemos la siguiente ecuación diferencial:\n",
    "\n",
    "$$ \\frac{\\partial ^2 y}{\\partial x^2} = 0 $$\n",
    "\n",
    "Para llevar a cabo la resolución mediante Python será necesario reducir el orden de la ecuación diferencial a través de un sistema de ecuaciones diferenciales. Se crea la variable $A(x) = \\frac{d y}{d x}$, con lo que queda este sistema de ecuaciones diferenciales:\n",
    "\n",
    "$$ A(x) = \\frac{d y}{d x} $$\n",
    "$$ \\frac{d A}{d x} = 0 $$\n",
    "\n",
    "Los valores iniciales definidos son $y(x=0) = 200$ y $y'(x = 0) = 100$"
   ]
  },
  {
   "cell_type": "code",
   "execution_count": 24,
   "id": "dec2ad2c",
   "metadata": {},
   "outputs": [
    {
     "data": {
      "text/plain": [
       "  message: 'The solver successfully reached the end of the integration interval.'\n",
       "     nfev: 26\n",
       "     njev: 0\n",
       "      nlu: 0\n",
       "      sol: None\n",
       "   status: 0\n",
       "  success: True\n",
       "        t: array([ 0.        ,  5.55555556, 11.11111111, 16.66666667, 22.22222222,\n",
       "       27.77777778, 33.33333333, 38.88888889, 44.44444444, 50.        ])\n",
       " t_events: None\n",
       "        y: array([[ 200.        ,  755.55555556, 1311.11111111, 1866.66666667,\n",
       "        2422.22222222, 2977.77777778, 3533.33333333, 4088.88888889,\n",
       "        4644.44444444, 5200.        ],\n",
       "       [ 100.        ,  100.        ,  100.        ,  100.        ,\n",
       "         100.        ,  100.        ,  100.        ,  100.        ,\n",
       "         100.        ,  100.        ]])\n",
       " y_events: None"
      ]
     },
     "execution_count": 24,
     "metadata": {},
     "output_type": "execute_result"
    }
   ],
   "source": [
    "# Vector asociado a la variable independiente\n",
    "x = np.linspace(0, 50, 10)\n",
    "\n",
    "# Valores iniciales asociados a x = 0\n",
    "y_0 = 200\n",
    "dydx_0 = 100\n",
    "\n",
    "# Sistema de ecuaciones diferenciales\n",
    "def eq(x, y):\n",
    "    A = y[1]\n",
    "    dAdx = 0\n",
    "    return [A, dAdx]\n",
    "\n",
    "# Resolución del sistema de ecuaciones diferenciales\n",
    "res = spi.solve_ivp(eq, [0,50], [y_0, dydx_0], t_eval = x)\n",
    "res"
   ]
  },
  {
   "cell_type": "code",
   "execution_count": 33,
   "id": "217147a1",
   "metadata": {},
   "outputs": [
    {
     "data": {
      "image/png": "[encoded data removed]",
      "text/plain": [
       "<Figure size 432x288 with 1 Axes>"
      ]
     },
     "metadata": {
      "needs_background": "light"
     },
     "output_type": "display_data"
    }
   ],
   "source": [
    "# Graficar el resultado obtenido\n",
    "plt.plot(x, res.y[0], 'c-', lw=2)\n",
    "\n",
    "# Personalización gráfico\n",
    "plt.grid(True)\n",
    "plt.xlabel('x')\n",
    "plt.ylabel('y')\n",
    "plt.show()"
   ]
  },
  {
   "cell_type": "markdown",
   "id": "148453c0",
   "metadata": {},
   "source": [
    "Esta ecuación diferencial posee solución analítica (variables separables) que viene dada por: $y(x) = C_1 * x + C_2 = 100 * x + 200$. Comparando la resolución con métodos numéricos con la solución analítica"
   ]
  },
  {
   "cell_type": "code",
   "execution_count": 34,
   "id": "5e604174",
   "metadata": {},
   "outputs": [
    {
     "data": {
      "image/png": "[encoded data removed]",
      "text/plain": [
       "<Figure size 432x288 with 1 Axes>"
      ]
     },
     "metadata": {
      "needs_background": "light"
     },
     "output_type": "display_data"
    }
   ],
   "source": [
    "# Vector asociado a la variable dependiente usando la solución analítica\n",
    "y_a = np.array(100*x + 200)\n",
    "\n",
    "# Graficar el resultado mediante métodos numéricos y mediante la solución analícia\n",
    "plt.plot(x, res.y[0], 'r.', lw=10, label='métodos numéricos')\n",
    "plt.plot(x, y_a, 'b-', lw=1, label='solución analítica')\n",
    "\n",
    "# Personalización gráfico\n",
    "plt.grid(True)\n",
    "plt.legend()\n",
    "plt.xlabel('x')\n",
    "plt.ylabel('y')\n",
    "plt.show()"
   ]
  },
  {
   "cell_type": "markdown",
   "id": "fd645126",
   "metadata": {},
   "source": [
    "Se puede observar que ambas soluciones coinciden como era de esperar"
   ]
  },
  {
   "cell_type": "markdown",
   "id": "cf9b3171",
   "metadata": {},
   "source": [
    "## Ejemplo 2"
   ]
  },
  {
   "cell_type": "markdown",
   "id": "25813156",
   "metadata": {},
   "source": [
    "Analicemos la siguiente ecuación diferencial:\n",
    "\n",
    "$$ y \\frac{\\partial ^2 y}{\\partial x^2} + 2x \\frac{\\partial y}{\\partial x} = 0 $$\n",
    "\n",
    "Se crea la variable $A(x) = \\frac{d y}{d x}$, con lo que queda este sistema de ecuaciones diferenciales:\n",
    "\n",
    "$$ A(x) = \\frac{d y}{d x} $$\n",
    "$$ \\frac{d A}{d x} = \\frac{-2x A(x)}{y} $$\n",
    "\n",
    "Los valores iniciales definidos son $y(x=0) = 200$ y $y'(x = 0) = 100$"
   ]
  },
  {
   "cell_type": "code",
   "execution_count": 35,
   "id": "d3e77114",
   "metadata": {},
   "outputs": [
    {
     "data": {
      "text/plain": [
       "  message: 'The solver successfully reached the end of the integration interval.'\n",
       "     nfev: 38\n",
       "     njev: 0\n",
       "      nlu: 0\n",
       "      sol: None\n",
       "   status: 0\n",
       "  success: True\n",
       "        t: array([ 0.        ,  5.55555556, 11.11111111, 16.66666667, 22.22222222,\n",
       "       27.77777778, 33.33333333, 38.88888889, 44.44444444, 50.        ])\n",
       " t_events: None\n",
       "        y: array([[ 200.        ,  742.85105854, 1244.14091818, 1698.35813302,\n",
       "        2105.79278982, 2468.43957796, 2788.35313555, 3068.12990135,\n",
       "        3310.94874471, 3520.50043985],\n",
       "       [ 100.        ,   94.32809324,   86.02988261,   77.49941529,\n",
       "          69.20211523,   61.29130921,   53.87076532,   46.99874867,\n",
       "          40.6883743 ,   34.9119138 ]])\n",
       " y_events: None"
      ]
     },
     "execution_count": 35,
     "metadata": {},
     "output_type": "execute_result"
    }
   ],
   "source": [
    "# Vector asociado a la varaible independiente\n",
    "x = np.linspace(0, 50, 10)\n",
    "\n",
    "# Valores iniciales asociados a x = 0\n",
    "y_0 = 200\n",
    "dydx_0 = 100\n",
    "\n",
    "# Sistema de ecuaciones diferenciales\n",
    "def eq(x, y):\n",
    "    A = y[1]\n",
    "    dAdx = -2*x*y[1]/y[0]\n",
    "    return [A, dAdx]\n",
    "\n",
    "# Resolución del sistema de ecuaciones diferenciales\n",
    "res = spi.solve_ivp(eq, [0,50], [y_0, dydx_0], t_eval = x)\n",
    "res"
   ]
  },
  {
   "cell_type": "code",
   "execution_count": 36,
   "id": "69f57781",
   "metadata": {},
   "outputs": [
    {
     "data": {
      "image/png": "[encoded data removed]",
      "text/plain": [
       "<Figure size 432x288 with 1 Axes>"
      ]
     },
     "metadata": {
      "needs_background": "light"
     },
     "output_type": "display_data"
    }
   ],
   "source": [
    "# Graficar el resultado obtenido\n",
    "plt.plot(x, res.y[0], 'c-', lw=2)\n",
    "\n",
    "# Personalización gráfico\n",
    "plt.grid(True)\n",
    "plt.xlabel('x')\n",
    "plt.ylabel('y')\n",
    "plt.show()"
   ]
  },
  {
   "cell_type": "code",
   "execution_count": null,
   "id": "3564410a",
   "metadata": {},
   "outputs": [],
   "source": []
  }
 ],
 "metadata": {
  "kernelspec": {
   "display_name": "Python 3 (ipykernel)",
   "language": "python",
   "name": "python3"
  },
  "language_info": {
   "codemirror_mode": {
    "name": "ipython",
    "version": 3
   },
   "file_extension": ".py",
   "mimetype": "text/x-python",
   "name": "python",
   "nbconvert_exporter": "python",
   "pygments_lexer": "ipython3",
   "version": "3.9.12"
  }
 },
 "nbformat": 4,
 "nbformat_minor": 5
}
