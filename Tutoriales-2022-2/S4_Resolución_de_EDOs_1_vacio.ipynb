{
 "cells": [
  {
   "cell_type": "markdown",
   "id": "908e0715",
   "metadata": {},
   "source": [
    "# Sesión 4: Resolución de EDOs con Python 1"
   ]
  },
  {
   "cell_type": "code",
   "execution_count": 15,
   "id": "05aeb4a1",
   "metadata": {},
   "outputs": [],
   "source": [
    "# Importar librerías a utilizar\n"
   ]
  },
  {
   "cell_type": "markdown",
   "id": "3d020841",
   "metadata": {},
   "source": [
    "El *solver* a utilizar es *solve_ivp* de *scipy.integrate*, la documentación se puede encontrar en *https://docs.scipy.org/doc/scipy/reference/generated/scipy.integrate.solve_ivp.html*"
   ]
  },
  {
   "cell_type": "markdown",
   "id": "eb5e2c11",
   "metadata": {},
   "source": [
    "## Ejemplo 1"
   ]
  },
  {
   "cell_type": "markdown",
   "id": "81dba80f",
   "metadata": {},
   "source": [
    "Analicemos la siguiente ecuación diferencial:\n",
    "\n",
    "$$ \\frac{\\partial ^2 y}{\\partial x^2} = 0 $$\n",
    "\n",
    "Para llevar a cabo la resolución mediante Python será necesario reducir el orden de la ecuación diferencial a través de un sistema de ecuaciones diferenciales. Se crea la variable $A(x) = \\frac{d y}{d x}$, con lo que queda este sistema de ecuaciones diferenciales:\n",
    "\n",
    "$$ A(x) = \\frac{d y}{d x} $$\n",
    "$$ \\frac{d A}{d x} = 0 $$\n",
    "\n",
    "Los valores iniciales definidos son $y(x=0) = 200$ y $y'(x = 0) = 100$"
   ]
  },
  {
   "cell_type": "code",
   "execution_count": 17,
   "id": "dec2ad2c",
   "metadata": {},
   "outputs": [],
   "source": [
    "# Vector asociado a la variable independiente\n",
    "\n",
    "\n",
    "# Valores iniciales asociados a x = 0\n",
    "\n",
    "\n",
    "# Sistema de ecuaciones diferenciales\n",
    "\n",
    "\n",
    "# Resolución del sistema de ecuaciones diferenciales\n"
   ]
  },
  {
   "cell_type": "code",
   "execution_count": 18,
   "id": "217147a1",
   "metadata": {},
   "outputs": [],
   "source": [
    "# Graficar el resultado obtenido\n",
    "\n",
    "\n",
    "# Personalización gráfico\n"
   ]
  },
  {
   "cell_type": "markdown",
   "id": "148453c0",
   "metadata": {},
   "source": [
    "Esta ecuación diferencial posee solución analítica (variables separables) que viene dada por: $y(x) = C_1 * x + C_2 = 100 * x + 200$. Comparando la resolución con métodos numéricos con la solución analítica"
   ]
  },
  {
   "cell_type": "code",
   "execution_count": 19,
   "id": "5e604174",
   "metadata": {},
   "outputs": [],
   "source": [
    "# Vector asociado a la variable dependiente usando la solución analítica\n",
    "\n",
    "\n",
    "# Graficar el resultado mediante métodos numéricos y mediante la solución analícia\n",
    "\n",
    "\n",
    "# Personalización gráfico\n"
   ]
  },
  {
   "cell_type": "markdown",
   "id": "fd645126",
   "metadata": {},
   "source": [
    "Se puede observar que ambas soluciones coinciden como era de esperar"
   ]
  },
  {
   "cell_type": "markdown",
   "id": "cf9b3171",
   "metadata": {},
   "source": [
    "## Ejemplo 2"
   ]
  },
  {
   "cell_type": "markdown",
   "id": "25813156",
   "metadata": {},
   "source": [
    "Analicemos la siguiente ecuación diferencial:\n",
    "\n",
    "$$ y \\frac{\\partial ^2 y}{\\partial x^2} + 2x \\frac{\\partial y}{\\partial x} = 0 $$\n",
    "\n",
    "Se crea la variable $A(x) = \\frac{d y}{d x}$, con lo que queda este sistema de ecuaciones diferenciales:\n",
    "\n",
    "$$ A(x) = \\frac{d y}{d x} $$\n",
    "$$ \\frac{d A}{d x} = \\frac{-2x A(x)}{y} $$\n",
    "\n",
    "Los valores iniciales definidos son $y(x=0) = 200$ y $y'(x = 0) = 100$"
   ]
  },
  {
   "cell_type": "code",
   "execution_count": 21,
   "id": "d3e77114",
   "metadata": {},
   "outputs": [],
   "source": [
    "# Vector asociado a la varaible independiente\n",
    "\n",
    "\n",
    "# Valores iniciales asociados a x = 0\n",
    "\n",
    "\n",
    "# Sistema de ecuaciones diferenciales\n",
    "\n",
    "\n",
    "# Resolución del sistema de ecuaciones diferenciales\n"
   ]
  },
  {
   "cell_type": "code",
   "execution_count": 20,
   "id": "69f57781",
   "metadata": {},
   "outputs": [],
   "source": [
    "# Graficar el resultado obtenido\n",
    "\n",
    "\n",
    "# Personalización gráfico\n"
   ]
  },
  {
   "cell_type": "code",
   "execution_count": null,
   "id": "3564410a",
   "metadata": {},
   "outputs": [],
   "source": []
  }
 ],
 "metadata": {
  "kernelspec": {
   "display_name": "Python 3 (ipykernel)",
   "language": "python",
   "name": "python3"
  },
  "language_info": {
   "codemirror_mode": {
    "name": "ipython",
    "version": 3
   },
   "file_extension": ".py",
   "mimetype": "text/x-python",
   "name": "python",
   "nbconvert_exporter": "python",
   "pygments_lexer": "ipython3",
   "version": "3.9.12"
  }
 },
 "nbformat": 4,
 "nbformat_minor": 5
}
