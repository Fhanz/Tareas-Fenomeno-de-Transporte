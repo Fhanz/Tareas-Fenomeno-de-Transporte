{
 "cells": [
  {
   "cell_type": "markdown",
   "id": "7c267b47",
   "metadata": {},
   "source": [
    "## Sesión 2 Computación Científica para Fenónemos de Transporte\n",
    "\n",
    "Autor: Dr. Felipe Huerta Pérez\n",
    "\n",
    "Fecha: 23/09/2022\n",
    "\n",
    "## Solución numérica a problemas a los valores de contorno (PVC) utilizando diferencias finitas"
   ]
  },
  {
   "cell_type": "markdown",
   "id": "8afb6145",
   "metadata": {},
   "source": [
    "Objetivos de aprendizaje:\n",
    "\n",
    "* Aprender a discretizar en el espacio una ecuación diferencial ordinaria proveniente de un problema a los valores de contorno utilizando diferencias finitas.\n",
    "* Aprender a discretizar en el espacio condiciones de borde.\n",
    "* Resolver el sistema de ecuaciones lineales resultantes luego de aplicar diferencias finitas."
   ]
  },
  {
   "cell_type": "markdown",
   "id": "fed874bb",
   "metadata": {},
   "source": [
    "Un problema a los valores de contorno (o boundary value problem, BVP por sus siglas en inglés) se define como una ecuación diferencial \n",
    "\n",
    "$$ y^{(n)} = f(x, y, y^{(1)}, ..., y^{n-1}) $$\n",
    "\n",
    "Con $n$ condiciones de borde en igual o menor numero de puntos en el dominio de los valores de la variable independiente $x$. \n",
    "El número de condiciones de borde dependerá del orden de la ecuación diferencial.\n",
    "\n",
    "Existe una variedad de métodos para resolver un $BVP$. Entre los más populares destaca el método de los disparos y las diferencias finitas. En esta sesión nos enfocaremos en las diferencias finitas dado que el método es fácilmente ampliable para resolver ecuaciones diferenciales parciales, y es la base de métodos numéricos más avanzados como volúmenes finitos o elementos finitos.\n",
    "\n",
    "El método de diferencias finitas consiste en dos pasos para resolver un PVC:\n",
    "1. Discretización de una ecuación diferencial y sus condiciones de borde.\n",
    "2. Resolución del sistema de ecuaciones lineales resultantes."
   ]
  },
  {
   "cell_type": "markdown",
   "id": "d3ab4713",
   "metadata": {},
   "source": [
    "### Problemas a los valores de borde provenientes de fenómenos de transporte"
   ]
  },
  {
   "cell_type": "markdown",
   "id": "a50476a8",
   "metadata": {},
   "source": [
    "En Fenómenos de Transporte, una de las ecuaciones más importantes para la transferencia de calor y masa es la ecuación de advección difusión unidimensional\n",
    "\n",
    "$$  \\frac{\\partial \\psi }{\\partial t} + v_x \\frac{\\partial \\psi}{\\partial x} = - \\frac{\\partial}{\\partial x} \\Phi_{\\text{molecular}} $$"
   ]
  },
  {
   "cell_type": "markdown",
   "id": "963c853d",
   "metadata": {},
   "source": [
    "Donde  $\\Phi_{\\text{molecular}}$ es el flux molecular de la cantidad conservada. Despreciando la generación de calor viscosa, el flux molecular de energía viene dado por la ley de Fourier, $\\Phi_{\\text{molecular}} = - k \\frac{\\partial T}{\\partial x} $. "
   ]
  },
  {
   "cell_type": "markdown",
   "id": "23bca089",
   "metadata": {},
   "source": [
    "Para transferencia de calor, la cantidad conservada es la energía interna del sistema, que al combinarse con el trabajo producto de los esfuerzos moleculares se puede escribir como $\\Psi = \\rho c_p T$. Luego,\n",
    "\n",
    "$$  \\frac{\\partial \\rho c_p T }{\\partial t} + v_x \\frac{\\partial \\rho c_p T}{\\partial x} = -\\frac {\\partial}{\\partial x} \\left( -k \\frac{\\partial T}{\\partial x} \\right) $$\n",
    "\n",
    "\n"
   ]
  },
  {
   "cell_type": "markdown",
   "id": "41121c60",
   "metadata": {},
   "source": [
    "Para simplificar la solución de esta ecuación diferencial parcial, es costumbre evaluar la densidad $\\rho$, calor específico $c_p$ y conductividad térmica $k$ a la temperatura promedio del sistema. Esto permite considerar las \"propiedades termofísicas constantes\", lo que es un supuesto razonable para cambios moderados de temperatura y un muy buen supuesto si las propiedades termofísicas cambian linealmente con la temperatura. Luego, al dividir la ecuación por $\\rho c_p$ uno obtiene la ecuación de advección - difusión que gobierna los cambios espacio-temporales de temperatura\n"
   ]
  },
  {
   "cell_type": "markdown",
   "id": "4f24e2c6",
   "metadata": {},
   "source": [
    "$\\alpha = \\frac{k}{\\rho c_p}$"
   ]
  },
  {
   "cell_type": "markdown",
   "id": "e0e1fed0",
   "metadata": {},
   "source": [
    "$$ \\frac{\\partial T}{\\partial t} + v_x \\frac{\\partial T}{\\partial x} = \\alpha \\frac{\\partial ^2 T}{\\partial x^2} $$"
   ]
  },
  {
   "cell_type": "markdown",
   "id": "8f592cab",
   "metadata": {},
   "source": [
    "En estado estacionario, la temperatura de cada punto del dominio no cambia en el tiempo lo que produce la ecuación de advección-difusión en estado estacionario:\n",
    "\n",
    "$$  v_x \\frac{\\partial T}{\\partial x} = \\alpha \\frac{\\partial ^2 T}{\\partial x^2} $$"
   ]
  },
  {
   "cell_type": "markdown",
   "id": "931e7d58",
   "metadata": {},
   "source": [
    "Este PVB puede estar sujeto a tres tipos de condiciones de borde:\n",
    "\n",
    "#### Dirichlet:\n",
    "\n",
    "$$T(x_0) = T_0$$\n",
    "\n",
    "Muy frecuente en transferencia de calor en sólidos en experimentos controlados.\n",
    "\n",
    "#### Neumann: \n",
    "\n",
    "$$-k \\frac{\\partial T}{\\partial x}|_{x=x_0} = q_0$$ \n",
    "\n",
    "Muy frecuente en situaciones cotidianas de transferencia de calor.\n",
    "\n",
    "#### Robin:\n",
    "\n",
    "$$ -k \\frac{\\partial T}{\\partial x}|_{x=x_0} = h(T(x_0) - T_{\\infty}) $$\n",
    "\n",
    "Muy frecuente en problemas de convección natural y forzada."
   ]
  },
  {
   "cell_type": "markdown",
   "id": "599a6cee",
   "metadata": {},
   "source": [
    "### Aplicación del método de Diferencias Finitas a la ecuación de advección-difusión en estado estacionario"
   ]
  },
  {
   "cell_type": "markdown",
   "id": "79c836b2",
   "metadata": {},
   "source": [
    "### Problemas unidimensionales"
   ]
  },
  {
   "cell_type": "markdown",
   "id": "1e2a51d5",
   "metadata": {},
   "source": [
    "Si el dominio de la solución es $\\Omega: x \\in (a,b) $ donde $a,b$ son números reales y $a < b$, es posible discretizar el dominio en un retículo con $N$ nodos mediante:\n",
    "\n",
    "$$ x_i = a + (i-1) \\cdot \\Delta x $$\n",
    "$$ 1 \\leq i \\leq N+1 $$\n",
    "$$ \\Delta x = (b-a)/N$$"
   ]
  },
  {
   "cell_type": "markdown",
   "id": "47c16636",
   "metadata": {},
   "source": [
    "Donde $\\Delta x$ se define como el espaciamiento del retículo o grilla (o *grid spacing* por sus siglas en inglés)."
   ]
  },
  {
   "cell_type": "markdown",
   "id": "98cb6c28",
   "metadata": {},
   "source": [
    "### Aproximación de derivadas utilizando diferencias finitas\n",
    "\n",
    "El fundamento matemático (o corazón) de las diferencias finitas son las Series de Taylor. La derivación de estas ecuaciones se puede encontrar en una cápsula que estará disponible pronto. Utilizando la Serie de Taylor para aproximar la primera derivada de la temperatura, obtenemos"
   ]
  },
  {
   "cell_type": "markdown",
   "id": "9ec7ad07",
   "metadata": {},
   "source": [
    "### Aproximaciones de la primera derivada"
   ]
  },
  {
   "cell_type": "markdown",
   "id": "30024a85",
   "metadata": {},
   "source": [
    "Diferencia finita hacia adelante \n",
    "$$ \\frac{dT_i}{dx} = \\frac{T_{i+1} - T_{i}}{\\Delta x} + O(\\Delta x) \\approx  \\frac{T_{i+1} - T_{i}}{\\Delta x} $$\n",
    "\n",
    "Válida para los puntos $i = 1..N$ en el retículo\n",
    "\n",
    "Diferencia finita hacia atrás de orden $\\Delta x$\n",
    "$$ \\frac{dT_i}{dx} = \\frac{T_{i} - T_{i-1}}{\\Delta x} + O(\\Delta x) \\approx  \\frac{T_{i} - T_{i-1}}{\\Delta x} $$\n",
    "\n",
    "Válida para los puntos $i = 2..N+1 $\n",
    "\n",
    "Estas aproximaciones de diferencias finitas tienen un error de truncación $\\epsilon$ de orden $\\Delta x$, $\\epsilon \\sim O(\\Delta x)\\$\n"
   ]
  },
  {
   "cell_type": "markdown",
   "id": "1ebd3984",
   "metadata": {},
   "source": [
    "#### Aproximaciones de segundo orden  $\\Delta x, \\epsilon \\sim O(\\Delta x ^2)$"
   ]
  },
  {
   "cell_type": "markdown",
   "id": "0abe3229",
   "metadata": {},
   "source": [
    "Diferencia finita hacia adelante\n",
    "$$ \\frac{dT_i}{dx} = \\frac{-3 T_i + 4T_{i+1}- T_{i+2}}{2 \\Delta x} + O(\\Delta x ^2) \\approx \\frac{-3 T_i + 4T_{i+1}- T_{i+2}}{2 \\Delta x}$$"
   ]
  },
  {
   "cell_type": "markdown",
   "id": "99880444",
   "metadata": {},
   "source": [
    "Diferencia finita hacia atrás\n",
    "$$ \\frac{dT_i}{dx} = \\frac{3 T_i  -4T_{i-1} + 2T_{i-2}}{2 \\Delta x} + O(\\Delta x ^2) \\approx \\frac{3 T_i - 4T_{i-1} + 2T_{i-2}}{2 \\Delta x}$$"
   ]
  },
  {
   "cell_type": "markdown",
   "id": "0acf2f1d",
   "metadata": {},
   "source": [
    "Diferencia finita central:\n",
    "\n",
    "$$ \\frac{dT_i}{dx} = \\frac{T_{i+1} - T_{i-1}}{2 \\Delta x} + O(\\Delta x ^2) \\approx \\frac{T_{i+1} - T_{i-1}}{2 \\Delta x} $$"
   ]
  },
  {
   "cell_type": "markdown",
   "id": "b992bb6f",
   "metadata": {},
   "source": [
    "### Aproximación de la segunda derivada\n",
    "Diferencia finita central\n",
    "\n",
    "$$ \\frac{\\partial ^2 T_i}{\\partial x^2} = \\frac{T_{i+1} - 2 T_{i} + T_{i-1}}{\\Delta x ^2} $$"
   ]
  },
  {
   "cell_type": "markdown",
   "id": "a0496bdc",
   "metadata": {},
   "source": [
    "#### Bibliografía:\n",
    "\n",
    "H. Jorquera González y C. Gelmi Weston, Métodos numéricos aplicados a Ingeniería: Casos de estudio usando MATLAB. Ediciones UC.\n",
    "\n",
    "Disponible en la Red de Bibliotecas UC: https://www.jstor.org/stable/j.ctt17t7770\n",
    "\n",
    "Páginas 134-144 \n",
    "\n",
    "Tabla de coeficientes de derivadas de orden superior y precisión mayor: [Wikipedia](https://en.wikipedia.org/wiki/Finite_difference_coefficient)"
   ]
  }
 ],
 "metadata": {
  "kernelspec": {
   "display_name": "Python 3 (ipykernel)",
   "language": "python",
   "name": "python3"
  },
  "language_info": {
   "codemirror_mode": {
    "name": "ipython",
    "version": 3
   },
   "file_extension": ".py",
   "mimetype": "text/x-python",
   "name": "python",
   "nbconvert_exporter": "python",
   "pygments_lexer": "ipython3",
   "version": "3.10.4"
  }
 },
 "nbformat": 4,
 "nbformat_minor": 5
}
