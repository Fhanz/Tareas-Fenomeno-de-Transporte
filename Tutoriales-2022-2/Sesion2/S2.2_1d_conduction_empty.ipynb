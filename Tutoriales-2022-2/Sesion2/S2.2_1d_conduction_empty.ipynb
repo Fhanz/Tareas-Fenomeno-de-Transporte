{
 "cells": [
  {
   "cell_type": "markdown",
   "id": "fc21f314",
   "metadata": {},
   "source": [
    "### Python Sesión 2 - Diferencias finitas para problemas a los valores de contorno (PVC)\n",
    "\n",
    "Parte 4 - Implementación"
   ]
  },
  {
   "cell_type": "markdown",
   "id": "b84885c5",
   "metadata": {},
   "source": [
    "Se desea conocer el perfil de temperatura en una barra cilíndrica sólida aislada muy delgada de largo $L = 1 m$. Esta barra está sujeta a un gradiente de temperatura en sus extremos. Un extremo de la barra se encuentra a temperatura $T(z=0) = T_0 = 298 K$. El otro extremo de la barra se encuentra a temperatura $T(z=L) = T_1 = 400 K$. \n",
    "\n",
    "* a)Encuentre el perfil de temperatura utilizando diferencias finitas en estado estacionario.\n",
    "* b)Compruebe su resultado con la solución analítica.\n"
   ]
  },
  {
   "cell_type": "markdown",
   "id": "7a9a857b",
   "metadata": {},
   "source": [
    "### Solución\n",
    "\n",
    "#### 1. Modelamiento matemático\n",
    "\n",
    "\n",
    "$$  v_z \\frac{\\partial T}{\\partial z} = k \\frac{\\partial ^2 T}{\\partial z^2} $$"
   ]
  },
  {
   "cell_type": "markdown",
   "id": "b9d9ff12",
   "metadata": {},
   "source": [
    "La barra es un sólido que no está en movimiento. Por lo tanto, el término advectivo se cancela y la ecuación diferencial a resolver es:\n",
    "\n",
    "\n",
    "$$   k \\frac{d ^2 T}{d z^2} = 0 $$\n",
    "\n",
    "Sujeto a las siguientes condiciones de borde:\n",
    "\n",
    "$$ T(z=0) = 298 K $$\n",
    "\n",
    "$$ T(z=1) = 400 K $$\n"
   ]
  },
  {
   "cell_type": "markdown",
   "id": "8fb65af4",
   "metadata": {},
   "source": [
    "#### 2. Discretización utilizando diferencias finitas\n"
   ]
  },
  {
   "cell_type": "markdown",
   "id": "8244877a",
   "metadata": {},
   "source": [
    "Ecuación diferencial discretizada\n",
    "\n",
    "$$ k \\frac{T_{i+1} - 2T_i + T_{i-1}}{\\Delta z ^2} = 0 $$\n",
    "\n",
    "$$ \\rightarrow \\frac{T_{i+1} - 2T_i + T_{i-1}}{\\Delta z ^2} = 0 $$"
   ]
  },
  {
   "cell_type": "markdown",
   "id": "5a6762e3",
   "metadata": {},
   "source": [
    "Válido para $i = 2 .. N $."
   ]
  },
  {
   "cell_type": "markdown",
   "id": "1101f154",
   "metadata": {},
   "source": [
    "Condiciones de borde: \n"
   ]
  },
  {
   "cell_type": "markdown",
   "id": "88c2ba3e",
   "metadata": {},
   "source": [
    "$T_1 = 298 K$\n",
    "\n",
    "$T_{N+1} = 400 K$"
   ]
  },
  {
   "cell_type": "markdown",
   "id": "9ed65b71",
   "metadata": {},
   "source": [
    "### 3. Creación de la matriz para solucionar el BVP"
   ]
  },
  {
   "cell_type": "markdown",
   "id": "e6a0a2c8",
   "metadata": {},
   "source": [
    "$$ \\mathbf{A} \\vec{T} = \\vec{b}$$"
   ]
  },
  {
   "cell_type": "code",
   "execution_count": null,
   "id": "88a0d808",
   "metadata": {},
   "outputs": [],
   "source": [
    "# Importar paquetes\n",
    "\n"
   ]
  },
  {
   "cell_type": "code",
   "execution_count": null,
   "id": "faa3d66b",
   "metadata": {},
   "outputs": [],
   "source": [
    "# Condiciones de borde del problema\n",
    "\n",
    "# Temperatura al comienzo de la barra (z=0)\n",
    "\n",
    "# Temperatura al final de la barra (z=1m)\n"
   ]
  },
  {
   "cell_type": "code",
   "execution_count": null,
   "id": "b19af660",
   "metadata": {},
   "outputs": [],
   "source": [
    "# Número de nodos en el reticulado\n",
    "\n",
    "\n",
    "\n",
    "# Creamos el dominio\n",
    "\n",
    "# Espaciamiento de grilla en la dirección z, uniforme\n",
    "\n",
    "# Creamos la matriz A llena de ceros para incorporar el lado izquierdo del sistema de ecuaciones discretizado\n",
    "\n",
    "# Creamos el vector del lado derecho\n",
    "\n"
   ]
  },
  {
   "cell_type": "markdown",
   "id": "1f68b554",
   "metadata": {},
   "source": [
    "Ecuación diferencial discretizada\n",
    "\n",
    "$$ \\rightarrow \\frac{T_{i+1} - 2T_i + T_{i-1}}{\\Delta z ^2} = 0 $$"
   ]
  },
  {
   "cell_type": "code",
   "execution_count": null,
   "id": "3925ff16",
   "metadata": {},
   "outputs": [],
   "source": [
    "# Asignar ecuación diferencial discretizada a los nodos interiores\n",
    "\n",
    "for i in range(1,N):\n",
    "\n",
    "\n",
    "# Condiciones de borde\n",
    "\n",
    "# Asignamos las condiciones de borde al primer y último elemento del lado derecho\n",
    "\n",
    "# Imprimimos la matriz para comprobar su estructura tridiagonal\n"
   ]
  },
  {
   "cell_type": "markdown",
   "id": "a6e33e2c",
   "metadata": {},
   "source": [
    "Utilizamos `NumPy.linalg.solve` para resolver el sistema de ecuaciones lineales."
   ]
  },
  {
   "cell_type": "code",
   "execution_count": null,
   "id": "23509d73",
   "metadata": {
    "scrolled": true
   },
   "outputs": [],
   "source": [
    "# Utilizamos linalg.solve para resolver el sistema de ecuaciones lineales\n"
   ]
  },
  {
   "cell_type": "markdown",
   "id": "5bc409e8",
   "metadata": {},
   "source": [
    "La solución analítica de la ecuación diferencial es\n",
    "\n",
    "$$ T(z) = T_0 + (T_N - T_0)z $$"
   ]
  },
  {
   "cell_type": "markdown",
   "id": "c9e10f0b",
   "metadata": {},
   "source": [
    "### Graficar"
   ]
  },
  {
   "cell_type": "code",
   "execution_count": null,
   "id": "99f17288",
   "metadata": {},
   "outputs": [],
   "source": [
    "# Solución analítica\n",
    "\n",
    "# Solución numérica"
   ]
  }
 ],
 "metadata": {
  "kernelspec": {
   "display_name": "Python 3 (ipykernel)",
   "language": "python",
   "name": "python3"
  },
  "language_info": {
   "codemirror_mode": {
    "name": "ipython",
    "version": 3
   },
   "file_extension": ".py",
   "mimetype": "text/x-python",
   "name": "python",
   "nbconvert_exporter": "python",
   "pygments_lexer": "ipython3",
   "version": "3.10.4"
  }
 },
 "nbformat": 4,
 "nbformat_minor": 5
}
