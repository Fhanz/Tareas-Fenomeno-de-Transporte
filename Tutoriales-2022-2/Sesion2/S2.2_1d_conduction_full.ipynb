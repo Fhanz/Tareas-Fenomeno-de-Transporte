{
 "cells": [
  {
   "cell_type": "markdown",
   "id": "fc21f314",
   "metadata": {},
   "source": [
    "### Python Sesión 2 - Diferencias finitas para problemas a los valores de contorno (PVC)\n",
    "\n",
    "Parte 4 - Implementación"
   ]
  },
  {
   "cell_type": "markdown",
   "id": "b84885c5",
   "metadata": {},
   "source": [
    "Se desea conocer el perfil de temperatura en una barra cilíndrica sólida aislada muy delgada de largo $L = 1 m$. Esta barra está sujeta a un gradiente de temperatura en sus extremos. Un extremo de la barra se encuentra a temperatura $T(z=0) = T_0 = 298 K$. El otro extremo de la barra se encuentra a temperatura $T(z=L) = T_1 = 400 K$. \n",
    "\n",
    "* a)Encuentre el perfil de temperatura utilizando diferencias finitas en estado estacionario.\n",
    "* b)Compruebe su resultado con la solución analítica.\n"
   ]
  },
  {
   "cell_type": "markdown",
   "id": "7a9a857b",
   "metadata": {},
   "source": [
    "### Solución\n",
    "\n",
    "#### 1. Modelamiento matemático\n",
    "\n",
    "\n",
    "$$  v_z \\frac{\\partial T}{\\partial z} = k \\frac{\\partial ^2 T}{\\partial z^2} $$"
   ]
  },
  {
   "cell_type": "markdown",
   "id": "b9d9ff12",
   "metadata": {},
   "source": [
    "La barra es un sólido que no está en movimiento. Por lo tanto, el término advectivo se cancela y la ecuación diferencial a resolver es:\n",
    "\n",
    "\n",
    "$$   k \\frac{d ^2 T}{d z^2} = 0 $$\n",
    "\n",
    "Sujeto a las siguientes condiciones de borde:\n",
    "\n",
    "$$ T(z=0) = 298 K $$\n",
    "\n",
    "$$ T(z=1) = 400 K $$\n"
   ]
  },
  {
   "cell_type": "markdown",
   "id": "8fb65af4",
   "metadata": {},
   "source": [
    "#### 2. Discretización utilizando diferencias finitas\n"
   ]
  },
  {
   "cell_type": "markdown",
   "id": "8244877a",
   "metadata": {},
   "source": [
    "Ecuación diferencial discretizada\n",
    "\n",
    "$$ k \\frac{T_{i+1} - 2T_i + T_{i-1}}{\\Delta z ^2} = 0 $$\n",
    "\n",
    "$$ \\rightarrow \\frac{T_{i+1} - 2T_i + T_{i-1}}{\\Delta z ^2} = 0 $$"
   ]
  },
  {
   "cell_type": "markdown",
   "id": "5a6762e3",
   "metadata": {},
   "source": [
    "Válido para $i = 2 .. N $."
   ]
  },
  {
   "cell_type": "markdown",
   "id": "1101f154",
   "metadata": {},
   "source": [
    "Condiciones de borde: \n"
   ]
  },
  {
   "cell_type": "markdown",
   "id": "88c2ba3e",
   "metadata": {},
   "source": [
    "$T_1 = 298 K$\n",
    "\n",
    "$T_{N+1} = 400 K$"
   ]
  },
  {
   "cell_type": "markdown",
   "id": "9ed65b71",
   "metadata": {},
   "source": [
    "### 3. Creación de la matriz para solucionar el BVP"
   ]
  },
  {
   "cell_type": "markdown",
   "id": "e6a0a2c8",
   "metadata": {},
   "source": [
    "$$ \\mathbf{A} \\vec{T} = \\vec{b}$$"
   ]
  },
  {
   "cell_type": "code",
   "execution_count": 1,
   "id": "88a0d808",
   "metadata": {},
   "outputs": [],
   "source": [
    "# Importar paquetes\n",
    "\n",
    "import numpy as np\n",
    "import matplotlib.pyplot as plt"
   ]
  },
  {
   "cell_type": "code",
   "execution_count": 2,
   "id": "faa3d66b",
   "metadata": {},
   "outputs": [],
   "source": [
    "# Condiciones de borde del problema\n",
    "\n",
    "# Temperatura al comienzo de la barra (z=0)\n",
    "T_0 = 298 # K\n",
    "\n",
    "# Temperatura al final de la barra (z=1m)\n",
    "T_N = 400 # K"
   ]
  },
  {
   "cell_type": "code",
   "execution_count": 3,
   "id": "b19af660",
   "metadata": {},
   "outputs": [
    {
     "name": "stdout",
     "output_type": "stream",
     "text": [
      "La matriz A vacía  [[0. 0. 0. 0. 0. 0. 0. 0. 0. 0. 0.]\n",
      " [0. 0. 0. 0. 0. 0. 0. 0. 0. 0. 0.]\n",
      " [0. 0. 0. 0. 0. 0. 0. 0. 0. 0. 0.]\n",
      " [0. 0. 0. 0. 0. 0. 0. 0. 0. 0. 0.]\n",
      " [0. 0. 0. 0. 0. 0. 0. 0. 0. 0. 0.]\n",
      " [0. 0. 0. 0. 0. 0. 0. 0. 0. 0. 0.]\n",
      " [0. 0. 0. 0. 0. 0. 0. 0. 0. 0. 0.]\n",
      " [0. 0. 0. 0. 0. 0. 0. 0. 0. 0. 0.]\n",
      " [0. 0. 0. 0. 0. 0. 0. 0. 0. 0. 0.]\n",
      " [0. 0. 0. 0. 0. 0. 0. 0. 0. 0. 0.]\n",
      " [0. 0. 0. 0. 0. 0. 0. 0. 0. 0. 0.]]\n",
      "El vector b vacío  [0. 0. 0. 0. 0. 0. 0. 0. 0. 0. 0.]\n"
     ]
    }
   ],
   "source": [
    "# Número de nodos en el reticulado\n",
    "\n",
    "N = 10\n",
    "\n",
    "# Creamos el dominio\n",
    "z = np.linspace(0, 1, N+1)\n",
    "# Espaciamiento de grilla en la dirección z, uniforme\n",
    "dz = (1-0)/N\n",
    "\n",
    "# Creamos la matriz A llena de ceros para incorporar el lado izquierdo del sistema de ecuaciones discretizado\n",
    "A = np.zeros([N+1, N+1])\n",
    "\n",
    "# Creamos el vector del lado derecho\n",
    "b = np.zeros(N+1)\n",
    "\n",
    "print(\"La matriz A vacía \", A)\n",
    "print(\"El vector b vacío \", b )"
   ]
  },
  {
   "cell_type": "markdown",
   "id": "1f68b554",
   "metadata": {},
   "source": [
    "Ecuación diferencial discretizada\n",
    "\n",
    "$$ \\rightarrow \\frac{T_{i+1} - 2T_i + T_{i-1}}{\\Delta z ^2} = 0 $$"
   ]
  },
  {
   "cell_type": "code",
   "execution_count": 4,
   "id": "3925ff16",
   "metadata": {},
   "outputs": [
    {
     "name": "stdout",
     "output_type": "stream",
     "text": [
      "[[   1.    0.    0.    0.    0.    0.    0.    0.    0.    0.    0.]\n",
      " [ 100. -200.  100.    0.    0.    0.    0.    0.    0.    0.    0.]\n",
      " [   0.  100. -200.  100.    0.    0.    0.    0.    0.    0.    0.]\n",
      " [   0.    0.  100. -200.  100.    0.    0.    0.    0.    0.    0.]\n",
      " [   0.    0.    0.  100. -200.  100.    0.    0.    0.    0.    0.]\n",
      " [   0.    0.    0.    0.  100. -200.  100.    0.    0.    0.    0.]\n",
      " [   0.    0.    0.    0.    0.  100. -200.  100.    0.    0.    0.]\n",
      " [   0.    0.    0.    0.    0.    0.  100. -200.  100.    0.    0.]\n",
      " [   0.    0.    0.    0.    0.    0.    0.  100. -200.  100.    0.]\n",
      " [   0.    0.    0.    0.    0.    0.    0.    0.  100. -200.  100.]\n",
      " [   0.    0.    0.    0.    0.    0.    0.    0.    0.    0.    1.]]\n"
     ]
    }
   ],
   "source": [
    "# Asignar ecuación diferencial discretizada a los nodos interiores\n",
    "\n",
    "for i in range(1,N):\n",
    "    # Comenzamos desde 1 porque las listas de Python comienzan en 0\n",
    "    # Terminamos en N porque N+1 es una condición de borde\n",
    "    A[i][i-1] = 1/dz**2\n",
    "    A[i][i] = -2/dz**2\n",
    "    A[i][i+1] = 1/dz**2\n",
    "\n",
    "# Condiciones de borde\n",
    "A[0][0] = 1 \n",
    "A[N][N] = 1\n",
    "\n",
    "# Asignamos las condiciones de borde al primer y último elemento del lado derecho\n",
    "b[0] = T_0\n",
    "b[N] = T_N\n",
    "\n",
    "# Imprimimos la matriz para comprobar su estructura tridiagonal\n",
    "print(A)"
   ]
  },
  {
   "cell_type": "markdown",
   "id": "a6e33e2c",
   "metadata": {},
   "source": [
    "Utilizamos `NumPy.linalg.solve` para resolver el sistema de ecuaciones lineales."
   ]
  },
  {
   "cell_type": "code",
   "execution_count": 6,
   "id": "23509d73",
   "metadata": {
    "scrolled": true
   },
   "outputs": [
    {
     "name": "stdout",
     "output_type": "stream",
     "text": [
      "[298.  308.2 318.4 328.6 338.8 349.  359.2 369.4 379.6 389.8 400. ]\n"
     ]
    }
   ],
   "source": [
    "# Utilizamos linalg.solve para re\n",
    "T_num = np.linalg.solve(A,b)\n",
    "print(T_num)"
   ]
  },
  {
   "cell_type": "markdown",
   "id": "5bc409e8",
   "metadata": {},
   "source": [
    "La solución analítica de la ecuación diferencial es\n",
    "\n",
    "$$ T(z) = T_0 + (T_N - T_0)z $$"
   ]
  },
  {
   "cell_type": "markdown",
   "id": "c9e10f0b",
   "metadata": {},
   "source": [
    "### Graficar"
   ]
  },
  {
   "cell_type": "code",
   "execution_count": 11,
   "id": "99f17288",
   "metadata": {},
   "outputs": [
    {
     "data": {
      "image/png": "[encoded data removed]",
      "text/plain": [
       "<Figure size 432x288 with 1 Axes>"
      ]
     },
     "metadata": {
      "needs_background": "light"
     },
     "output_type": "display_data"
    }
   ],
   "source": [
    "# Solución analítica\n",
    "T_an = T_0 + (T_N-T_0) * z\n",
    "plt.plot(z, T_an, 'k', label='S. analítica')\n",
    "\n",
    "# Solución numérica\n",
    "plt.plot(z, T_num,'ro', label='S. numérica')\n",
    "\n",
    "plt.xlabel('z/m')\n",
    "plt.ylabel('T/K')\n",
    "\n",
    "plt.legend()\n",
    "plt.show()\n"
   ]
  },
  {
   "cell_type": "code",
   "execution_count": null,
   "id": "1193d2e1",
   "metadata": {},
   "outputs": [],
   "source": []
  }
 ],
 "metadata": {
  "kernelspec": {
   "display_name": "Python 3 (ipykernel)",
   "language": "python",
   "name": "python3"
  },
  "language_info": {
   "codemirror_mode": {
    "name": "ipython",
    "version": 3
   },
   "file_extension": ".py",
   "mimetype": "text/x-python",
   "name": "python",
   "nbconvert_exporter": "python",
   "pygments_lexer": "ipython3",
   "version": "3.10.4"
  }
 },
 "nbformat": 4,
 "nbformat_minor": 5
}
