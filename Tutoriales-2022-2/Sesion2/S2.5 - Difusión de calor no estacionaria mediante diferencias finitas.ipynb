{
 "cells": [
  {
   "cell_type": "markdown",
   "id": "edf09927",
   "metadata": {},
   "source": [
    "### 16.2 - Tutorial - Diferencias finitas para conducción de calor no estacionaria"
   ]
  },
  {
   "cell_type": "markdown",
   "id": "c626c3f2",
   "metadata": {},
   "source": [
    "Se desea conocer el perfil de temperatura en una barra de aluminio de ancho y largo semi-infinitos y espesor $W = 1 m$. \n",
    "\n",
    "Un extremo de la barra se mantiene a temperatura $T_1 = 280 K$, que corresponde a la temperatura de toda la barra al inicio del proceso de interés $t=0$.\n",
    "\n",
    "En el instante $t=0$, el otro extremo de la barra se eleva súbitamente a una temperatura $T_2 = 380 K$. \n",
    "\n",
    "La difusividad térmica de la barra es 9.586 $\\times$ $10^{-5}$ m s$^{-2}$.\n",
    "\n",
    "El balance diferencial de este sistema produce la siguiente ecuación diferencial parcial\n",
    "\n",
    "$$ \\frac{\\partial T}{\\partial t} = \\alpha \\frac{\\partial^2 T}{\\partial z^2} $$\n",
    "\n",
    "1. Discretice la ecuación diferencial resultante utilizando diferencias finitas en el espacio y el tiempo \n",
    "2. Implemente un algoritmo numérico para encontrar la solución al sistema durante los primeros 3600 segundos de proceso."
   ]
  },
  {
   "cell_type": "markdown",
   "id": "ac7ffbdf",
   "metadata": {},
   "source": [
    "### Parte 1)\n",
    "\n",
    "Utilizaremos en primer lugar el método de Euler hacia adelante para la discretización de la derivada temporal. Sean $t$ y $t+1$ el tiempo de la iteración actual y el tiempo de la próxima iteración, respectivamente. Estos aparecerán en superíndices al lado de la variable discretizada. En los subíndices aparecerán los índices asociados a los nodos provenientes de la discretización espacial del dominio geométrico. "
   ]
  },
  {
   "cell_type": "markdown",
   "id": "80fc0d93",
   "metadata": {},
   "source": [
    "$$ \\frac{T_i^{t+1}-T_i^{t}}{\\Delta t} = \\alpha \\frac{T_{i+1}^t - 2 T_{i}^t + T_{i-1}^t}{\\Delta z ^2} $$"
   ]
  },
  {
   "cell_type": "markdown",
   "id": "cd0887f2",
   "metadata": {},
   "source": [
    "$$ T_i^{t+1} = T_i^{t} + \\alpha \\Delta t \\frac{T_{i+1}^t - 2 T_{i}^t + T_{i-1}^t}{\\Delta z ^2} $$"
   ]
  },
  {
   "cell_type": "markdown",
   "id": "0b8677b5",
   "metadata": {},
   "source": [
    "### Parte 2)"
   ]
  },
  {
   "cell_type": "code",
   "execution_count": 17,
   "id": "445516ef",
   "metadata": {},
   "outputs": [],
   "source": [
    "# Computación científica\n",
    "import numpy as np\n",
    "\n",
    "# Gráficos\n",
    "import matplotlib.pyplot as plt\n",
    "\n",
    "# Mapas de colores\n",
    "from matplotlib import cm\n",
    "\n",
    "# Funciones especiales\n",
    "from scipy.special import erf, erfc"
   ]
  },
  {
   "cell_type": "code",
   "execution_count": 18,
   "id": "0c59137a",
   "metadata": {},
   "outputs": [],
   "source": [
    "# Condiciones de borde del problema\n",
    "\n",
    "T_init = 280 # K\n",
    "T_a = 380 # K\n",
    "T_b = 280 # K"
   ]
  },
  {
   "cell_type": "code",
   "execution_count": 19,
   "id": "7d5851bf",
   "metadata": {},
   "outputs": [],
   "source": [
    "# Número de nodos en la dimensión z\n",
    "n_z = 101\n",
    "\n",
    "# Espesor de la barra\n",
    "W = 1 #m\n",
    "\n",
    "# Propiedades fisicas\n",
    "alpha = 9.586e-5 # m^2/s\n",
    "\n",
    "# Intervalo de escritura de tiempo\n",
    "writeInterval = 1\n",
    "\n",
    "dt = 0.1 # s\n",
    "\n",
    "# Inicializar el reticulado (mesh)\n",
    "z = np.linspace(0, W, n_z+1)\n",
    "\n",
    "# Espaciamiento del reticulado\n",
    "dz = W/(n_z - 1)\n",
    "\n",
    "# Condición inicial\n",
    "T = np.ones(n_z + 1) * T_init\n",
    "\n",
    "# Tiempo inicial\n",
    "t_0 = 0\n",
    "\n",
    "# Tiempo final\n",
    "t_f = 3600 # s"
   ]
  },
  {
   "cell_type": "markdown",
   "id": "e3bbf574",
   "metadata": {},
   "source": [
    "### Condiciones de borde\n",
    "\n",
    "$T(z=0) = T_1 = 280 K$\n",
    "\n",
    "$T(z=1) = T_2 = 380 K$"
   ]
  },
  {
   "cell_type": "code",
   "execution_count": 20,
   "id": "f3c020c4",
   "metadata": {},
   "outputs": [],
   "source": [
    "T[0] = T_a\n",
    "T[-1] = T_b"
   ]
  },
  {
   "cell_type": "code",
   "execution_count": 21,
   "id": "e08f5bbc",
   "metadata": {},
   "outputs": [],
   "source": [
    "# Tiempos que nos interesan para comparar con la solución semi-infinita\n",
    "# Los otros dos tiempos se agregan de modo de encontrar\n",
    "# El perfil en estado estacionario\n",
    "\n",
    "t_span = [25, 104, 235, 417, 652, 1800, 3600]"
   ]
  },
  {
   "cell_type": "markdown",
   "id": "4a067b67",
   "metadata": {},
   "source": [
    "Recordamos la discretización:"
   ]
  },
  {
   "cell_type": "markdown",
   "id": "3c09e7b5",
   "metadata": {},
   "source": [
    "$$ \\frac{T_i^{t+1}-T_i^{t}}{\\Delta t} = \\alpha \\frac{T_{i+1}^t - 2 T_{i}^t + T_{i-1}^t}{\\Delta z ^2} $$"
   ]
  },
  {
   "cell_type": "markdown",
   "id": "6d473b09",
   "metadata": {},
   "source": [
    "$$ T_i^{t+1} = T_i^{t} + \\alpha \\Delta t \\frac{T_{i+1}^t - 2 T_{i}^t + T_{i-1}^t}{\\Delta z ^2} $$"
   ]
  },
  {
   "cell_type": "code",
   "execution_count": 26,
   "id": "69629491",
   "metadata": {
    "scrolled": false
   },
   "outputs": [
    {
     "name": "stdout",
     "output_type": "stream",
     "text": [
      "1\n",
      "2\n",
      "3\n",
      "4\n",
      "5\n",
      "6\n",
      "6\n"
     ]
    }
   ],
   "source": [
    "# Lista de vectores temperatura que seran almacenados.\n",
    "T_out = []\n",
    "T_out.append(T)\n",
    "t = t_0\n",
    "\n",
    "# Índice de tiempo\n",
    "\n",
    "idx = 0\n",
    "while t < t_f:\n",
    "    T_old = np.copy(T)\n",
    "    \n",
    "    # Solamente actualizamos los nodos interiores\n",
    "    for i in range(1,n_z):\n",
    "        T[i] = T_old[i] + alpha*dt/dz**2 * (T_old[i+1]-2*T_old[i] + T_old[i-1])\n",
    "    t += dt # t = t + dt\n",
    "    \n",
    "    # El siguiente cómodo asegura almacenar\n",
    "    # únicamente aquellos tiempos de interés\n",
    "    # en la lista t_span con el objetivo de minimizar\n",
    "    # el uso de memoria\n",
    "    if(t % t_span[idx] < dt):\n",
    "        T_out.append(T_old)\n",
    "        if idx <= (len(t_span)-2):\n",
    "            idx += 1\n",
    "        print(idx)\n"
   ]
  },
  {
   "cell_type": "code",
   "execution_count": 27,
   "id": "09a6712f",
   "metadata": {
    "scrolled": true
   },
   "outputs": [
    {
     "data": {
      "text/plain": [
       "[array([380.        , 378.93966039, 377.87938875, 376.81925296,\n",
       "        375.7593208 , 374.69965983, 373.64033736, 372.58142036,\n",
       "        371.52297543, 370.46506868, 369.40776573, 368.3511316 ,\n",
       "        367.29523066, 366.24012659, 365.18588227, 364.13255977,\n",
       "        363.08022025, 362.02892395, 360.97873006, 359.92969673,\n",
       "        358.88188098, 357.83533865, 356.79012434, 355.74629138,\n",
       "        354.70389175, 353.66297606, 352.62359346, 351.58579164,\n",
       "        350.54961674, 349.51511333, 348.48232438, 347.45129118,\n",
       "        346.42205332, 345.39464868, 344.36911333, 343.34548156,\n",
       "        342.3237858 , 341.3040566 , 340.28632264, 339.27061065,\n",
       "        338.25694538, 337.24534964, 336.23584421, 335.22844786,\n",
       "        334.22317732, 333.22004726, 332.21907027, 331.22025687,\n",
       "        330.22361547, 329.22915242, 328.2368719 , 327.24677603,\n",
       "        326.25886479, 325.27313607, 324.28958561, 323.30820708,\n",
       "        322.32899203, 321.35192992, 320.37700813, 319.40421198,\n",
       "        318.43352471, 317.46492754, 316.49839965, 315.53391824,\n",
       "        314.57145851, 313.61099373, 312.65249521, 311.69593238,\n",
       "        310.7412728 , 309.78848216, 308.83752437, 307.88836157,\n",
       "        306.94095414, 305.99526079, 305.05123855, 304.10884284,\n",
       "        303.16802751, 302.22874489, 301.29094582, 300.35457969,\n",
       "        299.41959452, 298.48593701, 297.55355254, 296.62238529,\n",
       "        295.69237825, 294.76347328, 293.83561119, 292.90873178,\n",
       "        291.98277389, 291.05767547, 290.13337364, 289.20980477,\n",
       "        288.28690448, 287.36460779, 286.4428491 , 285.5215623 ,\n",
       "        284.60068084, 283.68013775, 282.75986576, 281.83979732,\n",
       "        280.91986469, 280.        ]),\n",
       " array([380.        , 368.49948764, 357.23718811, 346.43657081,\n",
       "        336.2931331 , 326.96398416, 318.56114504, 311.1489675 ,\n",
       "        304.74555372, 299.32760131, 294.83776859, 291.19349021,\n",
       "        288.29617378, 286.0398502 , 284.31858644, 283.03224883,\n",
       "        282.09047577, 281.41494545, 280.94018393, 280.61324683,\n",
       "        280.39263034, 280.24674052, 280.15219208, 280.09213612,\n",
       "        280.05474561, 280.03192635, 280.01827393, 280.01026604,\n",
       "        280.00566069, 280.00306368, 280.00162755, 280.00084872,\n",
       "        280.00043445, 280.00021832, 280.0001077 , 280.00005216,\n",
       "        280.00002481, 280.00001158, 280.00000531, 280.00000239,\n",
       "        280.00000106, 280.00000046, 280.0000002 , 280.00000008,\n",
       "        280.00000003, 280.00000001, 280.00000001, 280.        ,\n",
       "        280.        , 280.        , 280.        , 280.        ,\n",
       "        280.        , 280.        , 280.        , 280.        ,\n",
       "        280.        , 280.        , 280.        , 280.        ,\n",
       "        280.        , 280.        , 280.        , 280.        ,\n",
       "        280.        , 280.        , 280.        , 280.        ,\n",
       "        280.        , 280.        , 280.        , 280.        ,\n",
       "        280.        , 280.        , 280.        , 280.        ,\n",
       "        280.        , 280.        , 280.        , 280.        ,\n",
       "        280.        , 280.        , 280.        , 280.        ,\n",
       "        280.        , 280.        , 280.        , 280.        ,\n",
       "        280.        , 280.        , 280.        , 280.        ,\n",
       "        280.        , 280.        , 280.        , 280.        ,\n",
       "        280.        , 280.        , 280.        , 280.        ,\n",
       "        280.        , 280.        ]),\n",
       " array([380.        , 374.35503933, 368.73831378, 363.17763518,\n",
       "        357.6999794 , 352.33109434, 347.09513831, 342.0143569 ,\n",
       "        337.10880578, 332.39612484, 327.89136756, 323.60688786,\n",
       "        319.55228472, 315.73440326, 312.15738931, 308.82279323,\n",
       "        305.72971737, 302.87500083, 300.2534344 , 297.85799829,\n",
       "        295.68011509, 293.70991067, 291.93647612, 290.34812433,\n",
       "        288.93263566, 287.67748808, 286.57006787, 285.59785823,\n",
       "        284.7486038 , 284.01045015, 283.3720582 , 282.82269395,\n",
       "        282.35229492, 281.95151478, 281.61174836, 281.3251393 ,\n",
       "        281.08457266, 280.88365521, 280.71668556, 280.57861665,\n",
       "        280.46501268, 280.37200232, 280.29623007, 280.23480706,\n",
       "        280.18526262, 280.14549747, 280.11373931, 280.08850138,\n",
       "        280.0685442 , 280.05284084, 280.04054566, 280.0309665 ,\n",
       "        280.02354023, 280.01781139, 280.01341379, 280.01005471,\n",
       "        280.00750154, 280.00557048, 280.00411712, 280.00302868,\n",
       "        280.00221753, 280.001616  , 280.00117211, 280.00084615,\n",
       "        280.00060797, 280.00043478, 280.00030946, 280.00021922,\n",
       "        280.00015457, 280.00010847, 280.00007576, 280.00005267,\n",
       "        280.00003644, 280.00002509, 280.0000172 , 280.00001173,\n",
       "        280.00000796, 280.00000538, 280.00000362, 280.00000242,\n",
       "        280.00000161, 280.00000107, 280.00000071, 280.00000046,\n",
       "        280.0000003 , 280.0000002 , 280.00000013, 280.00000008,\n",
       "        280.00000005, 280.00000003, 280.00000002, 280.00000001,\n",
       "        280.00000001, 280.00000001, 280.        , 280.        ,\n",
       "        280.        , 280.        , 280.        , 280.        ,\n",
       "        280.        , 280.        ]),\n",
       " array([380.        , 376.2426414 , 372.4936125 , 368.76118762,\n",
       "        365.05353095, 361.37864299, 357.74430882, 354.15804873,\n",
       "        350.62707167, 347.15823215, 343.75799088, 340.43237951,\n",
       "        337.18696996, 334.02684831, 330.9565937 , 327.98026214,\n",
       "        325.10137537, 322.32291478, 319.64732015, 317.07649319,\n",
       "        314.61180571, 312.2541119 , 310.00376479, 307.8606362 ,\n",
       "        305.82414001, 303.89325827, 302.06656976, 300.34228052,\n",
       "        298.71825598, 297.19205417, 295.7609597 , 294.42201801,\n",
       "        293.17206955, 292.00778351, 290.92569078, 289.92221581,\n",
       "        288.99370715, 288.13646647, 287.34677566, 286.6209222 ,\n",
       "        285.95522237, 285.34604233, 284.78981711, 284.28306734,\n",
       "        283.8224138 , 283.40458988, 283.02645187, 282.68498735,\n",
       "        282.37732159, 282.10072225, 281.85260233, 281.63052168,\n",
       "        281.43218706, 281.25545102, 281.09830961, 280.95889921,\n",
       "        280.83549248, 280.72649367, 280.63043337, 280.54596275,\n",
       "        280.47184761, 280.40696208, 280.35028223, 280.30087968,\n",
       "        280.25791514, 280.22063213, 280.18835073, 280.16046166,\n",
       "        280.13642045, 280.11574193, 280.097995  , 280.08279764,\n",
       "        280.06981227, 280.0587414 , 280.04932356, 280.0413296 ,\n",
       "        280.03455918, 280.02883765, 280.02401316, 280.019954  ,\n",
       "        280.01654626, 280.01369166, 280.01130562, 280.00931557,\n",
       "        280.00765936, 280.00628389, 280.00514395, 280.00420111,\n",
       "        280.00342275, 280.00278128, 280.00225339, 280.00181942,\n",
       "        280.00146279, 280.00116953, 280.00092787, 280.00072784,\n",
       "        280.00056098, 280.00042005, 280.00029878, 280.00019161,\n",
       "        280.00009357, 280.        ]),\n",
       " array([380.        , 377.1784781 , 374.3604839 , 371.54953188,\n",
       "        368.74911013, 365.96266741, 363.19360036, 360.44524112,\n",
       "        357.72084533, 355.02358054, 352.35651526, 349.72260851,\n",
       "        347.12470012, 344.56550167, 342.04758826, 339.57339101,\n",
       "        337.14519044, 334.76511071, 332.43511473, 330.15700015,\n",
       "        327.9323963 , 325.76276197, 323.64938413, 321.59337752,\n",
       "        319.59568509, 317.65707929, 315.77816411, 313.95937802,\n",
       "        312.20099748, 310.50314121, 308.86577512, 307.28871777,\n",
       "        305.77164638, 304.3141033 , 302.91550292, 301.57513892,\n",
       "        300.2921918 , 299.06573669, 297.89475133, 296.77812412,\n",
       "        295.71466235, 294.70310034, 293.74210757, 292.83029681,\n",
       "        291.96623201, 291.14843609, 290.37539851, 289.64558258,\n",
       "        288.95743251, 288.30938014, 287.69985141, 287.12727238,\n",
       "        286.59007499, 286.08670233, 285.61561369, 285.17528903,\n",
       "        284.7642332 , 284.3809797 , 284.02409407, 283.6921769 ,\n",
       "        283.38386642, 283.09784079, 282.83282   , 282.58756741,\n",
       "        282.36089102, 282.15164436, 281.95872715, 281.78108564,\n",
       "        281.61771277, 281.46764796, 281.32997682, 281.20383059,\n",
       "        281.0883854 , 280.98286143, 280.8865218 , 280.79867149,\n",
       "        280.71865605, 280.64586025, 280.5797066 , 280.51965392,\n",
       "        280.46519574, 280.41585873, 280.37120107, 280.33081082,\n",
       "        280.29430425, 280.26132424, 280.23153857, 280.20463834,\n",
       "        280.18033632, 280.15836536, 280.13847681, 280.12043895,\n",
       "        280.10403548, 280.08906404, 280.07533465, 280.06266834,\n",
       "        280.05089569, 280.03985542, 280.02939298, 280.01935924,\n",
       "        280.00960906, 280.        ]),\n",
       " array([380.        , 377.74343672, 375.48867815, 373.2375247 ,\n",
       "        370.99176811, 368.75318721, 366.52354368, 364.30457791,\n",
       "        362.09800488, 359.90551026, 357.72874649, 355.56932906,\n",
       "        353.42883299, 351.3087893 , 349.21068187, 347.13594426,\n",
       "        345.08595691, 343.06204442, 341.06547309, 339.09744864,\n",
       "        337.15911422, 335.25154858, 333.3757645 , 331.53270746,\n",
       "        329.72325451, 327.94821345, 326.20832214, 324.50424817,\n",
       "        322.83658861, 321.20587013, 319.61254927, 318.0570129 ,\n",
       "        316.53957896, 315.06049733, 313.61995094, 312.21805707,\n",
       "        310.85486876, 309.53037643, 308.24450968, 306.99713916,\n",
       "        305.78807861, 304.61708702, 303.48387089, 302.38808654,\n",
       "        301.3293426 , 300.30720244, 299.32118676, 298.37077619,\n",
       "        297.45541386, 296.57450811, 295.7274351 , 294.91354145,\n",
       "        294.13214692, 293.38254696, 292.66401534, 291.97580665,\n",
       "        291.31715877, 290.68729534, 290.08542805, 289.51075898,\n",
       "        288.96248274, 288.43978863, 287.94186263, 287.46788932,\n",
       "        287.01705373, 286.58854304, 286.1815482 , 285.79526541,\n",
       "        285.42889757, 285.0816555 , 284.75275916, 284.44143869,\n",
       "        284.14693536, 283.86850242, 283.60540581, 283.35692479,\n",
       "        283.12235247, 282.90099619, 282.69217787, 282.49523419,\n",
       "        282.30951672, 282.13439195, 281.96924121, 281.81346054,\n",
       "        281.66646045, 281.52766561, 281.39651448, 281.27245884,\n",
       "        281.15496331, 281.04350471, 280.93757148, 280.83666298,\n",
       "        280.74028874, 280.64796766, 280.55922725, 280.47360269,\n",
       "        280.390636  , 280.30987507, 280.23087277, 280.15318593,\n",
       "        280.07637439, 280.        ]),\n",
       " array([380.        , 378.63449615, 377.26936272, 375.90496973,\n",
       "        374.54168644, 373.17988095, 371.81991983, 370.4621677 ,\n",
       "        369.1069869 , 367.7547371 , 366.40577489, 365.06045347,\n",
       "        363.71912223, 362.38212645, 361.04980686, 359.72249938,\n",
       "        358.40053473, 357.08423809, 355.77392877, 354.46991992,\n",
       "        353.17251817, 351.88202335, 350.59872818, 349.32291797,\n",
       "        348.05487037, 346.79485505, 345.54313348, 344.29995863,\n",
       "        343.06557479, 341.84021727, 340.62411221, 339.41747635,\n",
       "        338.22051687, 337.03343113, 335.85640655, 334.68962041,\n",
       "        333.53323971, 332.387421  , 331.25231026, 330.12804279,\n",
       "        329.01474307, 327.91252467, 326.82149019, 325.74173113,\n",
       "        324.67332789, 323.61634965, 322.57085437, 321.53688875,\n",
       "        320.51448823, 319.50367694, 318.50446774, 317.51686222,\n",
       "        316.54085073, 315.57641244, 314.62351532, 313.68211629,\n",
       "        312.75216122, 311.83358504, 310.92631182, 310.03025488,\n",
       "        309.14531688, 308.27138997, 307.40835587, 306.55608605,\n",
       "        305.71444188, 304.88327474, 304.06242621, 303.25172826,\n",
       "        302.4510034 , 301.66006487, 300.87871684, 300.10675462,\n",
       "        299.34396488, 298.5901258 , 297.84500738, 297.10837161,\n",
       "        296.37997272, 295.65955743, 294.94686516, 294.24162835,\n",
       "        293.54357263, 292.85241715, 292.1678748 , 291.48965252,\n",
       "        290.81745154, 290.15096766, 289.48989155, 288.83390904,\n",
       "        288.18270135, 287.53594548, 286.89331441, 286.25447744,\n",
       "        285.6191005 , 284.98684642, 284.35737525, 283.73034456,\n",
       "        283.10540976, 282.48222439, 281.86044042, 281.23970861,\n",
       "        280.61967874, 280.        ]),\n",
       " array([380.        , 378.93965388, 377.87937572, 376.81923344,\n",
       "        375.7592948 , 374.69962738, 373.64029849, 372.58137511,\n",
       "        371.52292383, 370.4650108 , 369.40770161, 368.35106131,\n",
       "        367.29515427, 366.24004416, 365.18579389, 364.13246553,\n",
       "        363.08012024, 362.02881826, 360.9786188 , 359.92958   ,\n",
       "        358.8817589 , 357.83521133, 356.78999191, 355.74615397,\n",
       "        354.70374949, 353.66282908, 352.62344192, 351.58563567,\n",
       "        350.54945649, 349.51494897, 348.48215606, 347.45111906,\n",
       "        346.42187758, 345.39446947, 344.36893084, 343.34529596,\n",
       "        342.32359726, 341.30386532, 340.2861288 , 339.27041443,\n",
       "        338.25674698, 337.24514924, 336.23564202, 335.22824406,\n",
       "        334.22297212, 333.21984084, 332.21886285, 331.22004864,\n",
       "        330.22340664, 329.22894318, 328.23666246, 327.24656659,\n",
       "        326.25865556, 325.27292724, 324.28937739, 323.30799967,\n",
       "        322.32878563, 321.35172473, 320.37680435, 319.4040098 ,\n",
       "        318.43332433, 317.46472916, 316.49820345, 315.53372442,\n",
       "        314.57126726, 313.61080523, 312.65230964, 311.69574992,\n",
       "        310.74109362, 309.78830644, 308.83735229, 307.88819328,\n",
       "        306.94078982, 305.99510058, 305.05108261, 304.10869133,\n",
       "        303.16788058, 302.22860267, 301.29080844, 300.3544473 ,\n",
       "        299.41946724, 298.48581496, 297.55343585, 296.62227406,\n",
       "        295.69227259, 294.7633733 , 293.83551699, 292.90864344,\n",
       "        291.98269149, 291.0575991 , 290.13330338, 289.20974067,\n",
       "        288.28684662, 287.36455621, 286.44280386, 285.52152344,\n",
       "        284.6006484 , 283.68011176, 282.75984624, 281.8397843 ,\n",
       "        280.91985818, 280.        ])]"
      ]
     },
     "execution_count": 27,
     "metadata": {},
     "output_type": "execute_result"
    }
   ],
   "source": [
    "T_out"
   ]
  },
  {
   "cell_type": "markdown",
   "id": "19186264",
   "metadata": {},
   "source": [
    "Perfil de temperatura analítico para conducció unidimensional en medio semi-infinito."
   ]
  },
  {
   "cell_type": "markdown",
   "id": "6fd95561",
   "metadata": {},
   "source": [
    "$$ T = (T_1-T_0) \\times \\left[1-\\mathrm{erf} \\left( \\frac{z}{\\sqrt{4 \\alpha t}} \\right) \\right] + T_0 $$"
   ]
  },
  {
   "cell_type": "code",
   "execution_count": 29,
   "id": "d2f7cea0",
   "metadata": {},
   "outputs": [],
   "source": [
    "# Definimos la función del perfil dimensional de temperatura\n",
    "def T_semi_infinite(z, t, alpha, T_0, T_1):\n",
    "    T = (T_1-T_0) * (1-erf(z/np.sqrt(4*alpha*t))) + T_0\n",
    "    return T"
   ]
  },
  {
   "cell_type": "markdown",
   "id": "9240e4a6",
   "metadata": {},
   "source": [
    "### Rutina para graficar"
   ]
  },
  {
   "cell_type": "code",
   "execution_count": 32,
   "id": "d0173e77",
   "metadata": {},
   "outputs": [
    {
     "data": {
      "text/plain": [
       "<Figure size 432x432 with 0 Axes>"
      ]
     },
     "metadata": {},
     "output_type": "display_data"
    },
    {
     "data": {
      "image/png": "[encoded data removed]",
      "text/plain": [
       "<Figure size 576x360 with 1 Axes>"
      ]
     },
     "metadata": {
      "needs_background": "light"
     },
     "output_type": "display_data"
    }
   ],
   "source": [
    "# Utilizar paleta de colores inclusiva\n",
    "cividis = cm.get_cmap(\"cividis\", 8)\n",
    "colours = [cividis(0), cividis(1 / 7), cividis(2 / 7), cividis(3 / 7), cividis(4 / 7), cividis(5 / 7), cividis(6 / 7), cividis(1)]\n",
    "\n",
    "plt.figure(figsize = [6,6])\n",
    "# plt.plot(z,T_out[0], label= 't = %.0f s ' % 0)\n",
    "\n",
    "# Gráfico solución numérica\n",
    "plt.figure(figsize=[8,5])\n",
    "\n",
    "\n",
    "for idx in range(1,len(T_out)):\n",
    "    # Minutos\n",
    "    # plt.plot(T_out[idx], y, label = 't = %.0f min ' % (writeInterval*idx/60) )\n",
    "    plt.plot(T_out[idx], z, color=colours[idx-1], label = 't = %.0f s, num' % t_span[idx-1])\n",
    "\n",
    "\n",
    "# Gráfico solución analítica\n",
    "z_an = np.linspace(0,W,10)\n",
    "for i in range(0,len(t_span)):\n",
    "    temp_analytical_t1 = T_semi_infinite(z_an, t_span[i], alpha, T_b, T_a)\n",
    "    plt.plot(temp_analytical_t1,  z_an, color=colours[i], marker='o', ls='',\n",
    "             label = \"semi-inf\")\n",
    "    \n",
    "plt.legend(fontsize = 12)\n",
    "plt.ylabel('$z$: Distancia desde el punto a / m', size = 12)\n",
    "plt.xlabel(' $T$: Temperatura / K', size = 12)\n",
    "plt.tick_params(labelsize = 12)\n",
    "\n",
    "plt.tick_params(labelsize=12)\n",
    "plt.vlines(x=T_a, ymin=0, ymax=1, ls='--')\n",
    "plt.vlines(x=T_b, ymin=0, ymax=1, ls='--', color='r')\n",
    "plt.legend(loc=[1.1,0.5], fontsize=12, ncol=2)\n",
    "\n",
    "plt.savefig('fig7_numerical_semi_infty.svg', bbox_inches='tight', transparent=True)\n",
    "plt.show()"
   ]
  },
  {
   "cell_type": "code",
   "execution_count": null,
   "id": "de680adc",
   "metadata": {},
   "outputs": [],
   "source": []
  }
 ],
 "metadata": {
  "kernelspec": {
   "display_name": "Python 3 (ipykernel)",
   "language": "python",
   "name": "python3"
  },
  "language_info": {
   "codemirror_mode": {
    "name": "ipython",
    "version": 3
   },
   "file_extension": ".py",
   "mimetype": "text/x-python",
   "name": "python",
   "nbconvert_exporter": "python",
   "pygments_lexer": "ipython3",
   "version": "3.10.4"
  }
 },
 "nbformat": 4,
 "nbformat_minor": 5
}
