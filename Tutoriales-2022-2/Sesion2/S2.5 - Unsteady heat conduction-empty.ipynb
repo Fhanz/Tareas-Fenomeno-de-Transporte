{
 "cells": [
  {
   "cell_type": "markdown",
   "id": "edf09927",
   "metadata": {},
   "source": [
    "### 16.2 - Tutorial - Diferencias finitas para conducción de calor no estacionaria"
   ]
  },
  {
   "cell_type": "markdown",
   "id": "c626c3f2",
   "metadata": {},
   "source": [
    "Se desea conocer el perfil de temperatura en una barra de aluminio de ancho y largo semi-infinitos y espesor $W = 1 m$. \n",
    "\n",
    "Un extremo de la barra se mantiene a temperatura $T_1 = 280 K$, que corresponde a la temperatura de toda la barra al inicio del proceso de interés $t=0$.\n",
    "\n",
    "En el instante $t=0$, el otro extremo de la barra se eleva súbitamente a una temperatura $T_2 = 380 K$. \n",
    "\n",
    "La difusividad térmica de la barra es 9.586 $\\times$ $10^{-5}$ m s$^{-2}$.\n",
    "\n",
    "El balance diferencial de este sistema produce la siguiente ecuación diferencial parcial\n",
    "\n",
    "$$ \\frac{\\partial T}{\\partial t} = \\alpha \\frac{\\partial^2 T}{\\partial z^2} $$\n",
    "\n",
    "1. Discretice la ecuación diferencial resultante utilizando diferencias finitas en el espacio y el tiempo \n",
    "2. Implemente un algoritmo numérico para encontrar la solución al sistema durante los primeros 652 segundos de proceso."
   ]
  },
  {
   "cell_type": "markdown",
   "id": "ac7ffbdf",
   "metadata": {},
   "source": [
    "### Parte 1)\n",
    "\n",
    "Utilizaremos en primer lugar el método de Euler hacia adelante para la discretización de la derivada temporal. Sean $t$ y $t+1$ el tiempo de la iteración actual y el tiempo de la próxima iteración, respectivamente. Estos aparecerán en superíndices al lado de la variable discretizada. En los subíndices aparecerán los índices asociados a los nodos provenientes de la discretización espacial del dominio geométrico. "
   ]
  },
  {
   "cell_type": "markdown",
   "id": "80fc0d93",
   "metadata": {},
   "source": [
    "$$ \\frac{T_i^{t+1}-T_i^{t}}{\\Delta t} = \\alpha \\frac{T_{i+1}^t - 2 T_{i}^t + T_{i-1}^t}{\\Delta z ^2} $$"
   ]
  },
  {
   "cell_type": "markdown",
   "id": "0b8677b5",
   "metadata": {},
   "source": [
    "### Parte 2)"
   ]
  },
  {
   "cell_type": "code",
   "execution_count": null,
   "id": "445516ef",
   "metadata": {},
   "outputs": [],
   "source": [
    "# Computación científica\n",
    "import numpy as np\n",
    "\n",
    "# Gráficos\n",
    "import matplotlib.pyplot as plt\n",
    "\n",
    "# Mapas de colores\n",
    "from matplotlib import cm\n",
    "\n",
    "# Funciones especiales\n",
    "from scipy.special import erf, erfc"
   ]
  },
  {
   "cell_type": "code",
   "execution_count": null,
   "id": "0c59137a",
   "metadata": {},
   "outputs": [],
   "source": [
    "# Condiciones de borde del problema\n"
   ]
  },
  {
   "cell_type": "code",
   "execution_count": null,
   "id": "7d5851bf",
   "metadata": {},
   "outputs": [],
   "source": [
    "# Número de nodos en la dimensión y\n",
    "\n",
    "# Espesor de la barra\n",
    "\n",
    "# Propiedades fisicas\n",
    "\n",
    "# Intervalo de escritura de tiempo\n",
    "\n",
    "# Inicializar el reticulado (mesh)\n",
    "\n",
    "# Espaciamiento del reticulado\n",
    "\n",
    "# Condición inicial\n",
    "\n",
    "# Espaciamiento entre nodos constante\n",
    "\n",
    "# t_f = int(np.round(W**2/(16 * alpha)))\n"
   ]
  },
  {
   "cell_type": "markdown",
   "id": "e3bbf574",
   "metadata": {},
   "source": [
    "### Condiciones de borde\n",
    "\n",
    "$T(z=0) = T_1 = 280 K$\n",
    "\n",
    "$T(z=1) = T_2 = 380 K$"
   ]
  },
  {
   "cell_type": "code",
   "execution_count": null,
   "id": "f3c020c4",
   "metadata": {},
   "outputs": [],
   "source": []
  },
  {
   "cell_type": "code",
   "execution_count": null,
   "id": "e08f5bbc",
   "metadata": {},
   "outputs": [],
   "source": [
    "# Tiempos que nos interesan para comparar con la solución semi-infinita\n",
    "# Los otros dos tiempos se agregan de modo de encontrar\n",
    "# El perfil en estado estacionario\n",
    "\n"
   ]
  },
  {
   "cell_type": "markdown",
   "id": "4a067b67",
   "metadata": {},
   "source": [
    "Recordamos la discretización:"
   ]
  },
  {
   "cell_type": "markdown",
   "id": "3c09e7b5",
   "metadata": {},
   "source": [
    "$$ \\frac{T_i^{t+1}-T_i^{t}}{\\Delta t} = \\alpha \\frac{T_{i+1}^t - 2 T_{i}^t + T_{i-1}^t}{\\Delta z ^2} $$"
   ]
  },
  {
   "cell_type": "code",
   "execution_count": null,
   "id": "69629491",
   "metadata": {
    "scrolled": false
   },
   "outputs": [],
   "source": [
    "# Lista de vectores temperatura que seran almacenados.\n",
    "\n",
    "# Índice de tiempo\n",
    "\n",
    "# Iteración para la progresión del perfil de temperatura en el tiempo"
   ]
  },
  {
   "cell_type": "code",
   "execution_count": null,
   "id": "09a6712f",
   "metadata": {},
   "outputs": [],
   "source": []
  },
  {
   "cell_type": "markdown",
   "id": "19186264",
   "metadata": {},
   "source": [
    "Perfil de temperatura analítico para conducció unidimensional en medio semi-infinito."
   ]
  },
  {
   "cell_type": "markdown",
   "id": "6fd95561",
   "metadata": {},
   "source": [
    "$$ T = (T_1-T_0) \\times \\left[1-\\mathrm{erf} \\left( \\frac{y}{\\sqrt{4 \\alpha t}} \\right) \\right] + T_0 $$"
   ]
  },
  {
   "cell_type": "code",
   "execution_count": null,
   "id": "d2f7cea0",
   "metadata": {},
   "outputs": [],
   "source": [
    "# Definimos la función del perfil dimensional de temperatura\n",
    "def T_semi_infinite(y, t, alpha, T_0, T_1):\n",
    "    T = (T_1-T_0) * (1-erf(y/np.sqrt(4*alpha*t))) + T_0\n",
    "    return T"
   ]
  },
  {
   "cell_type": "markdown",
   "id": "9240e4a6",
   "metadata": {},
   "source": [
    "### Rutina para graficar"
   ]
  },
  {
   "cell_type": "code",
   "execution_count": null,
   "id": "d0173e77",
   "metadata": {},
   "outputs": [],
   "source": [
    "# Utilizar paleta de colores inclusiva\n",
    "cividis = cm.get_cmap(\"cividis\", 8)\n",
    "colours = [cividis(0), cividis(1 / 7), cividis(2 / 7), cividis(3 / 7), cividis(4 / 7), cividis(5 / 7), cividis(6 / 7), cividis(1)]\n",
    "\n",
    "plt.figure(figsize = [6,6])\n",
    "# plt.plot(z,T_out[0], label= 't = %.0f s ' % 0)\n",
    "\n",
    "# Gráfico solución numérica\n",
    "plt.figure(figsize=[8,5])\n",
    "\n",
    "\n",
    "for idx in range(1,len(T_out)):\n",
    "    # Minutos\n",
    "    # plt.plot(T_out[idx], y, label = 't = %.0f min ' % (writeInterval*idx/60) )\n",
    "    plt.plot(T_out[idx], y, color=colours[idx-1], label = 't = %.0f s, num' % t_span[idx-1])\n",
    "\n",
    "\n",
    "# Gráfico solución analítica\n",
    "y_an = np.linspace(0,W,10)\n",
    "for i in range(0,len(t_span)):\n",
    "    temp_analytical_t1 = T_semi_infinite(y_an, t_span[i], alpha, T_b, T_a)\n",
    "    plt.plot(temp_analytical_t1,  y_an, color=colours[i], marker='o', ls='',\n",
    "             label = \"semi-inf\")\n",
    "    \n",
    "plt.legend(fontsize = 12)\n",
    "plt.ylabel('$y$: Distancia / m', size = 12)\n",
    "plt.xlabel(' $T$: Temperatura / K', size = 12)\n",
    "plt.tick_params(labelsize = 12)\n",
    "\n",
    "plt.tick_params(labelsize=12)\n",
    "plt.vlines(x=T_a, ymin=0, ymax=1, ls='--')\n",
    "plt.vlines(x=T_b, ymin=0, ymax=1, ls='--', color='r')\n",
    "plt.legend(loc=[1.1,0.5], fontsize=12, ncol=2)\n",
    "\n",
    "plt.savefig('fig7_numerical_semi_infty.svg', bbox_inches='tight', transparent=True)\n",
    "plt.show()"
   ]
  }
 ],
 "metadata": {
  "kernelspec": {
   "display_name": "Python 3 (ipykernel)",
   "language": "python",
   "name": "python3"
  },
  "language_info": {
   "codemirror_mode": {
    "name": "ipython",
    "version": 3
   },
   "file_extension": ".py",
   "mimetype": "text/x-python",
   "name": "python",
   "nbconvert_exporter": "python",
   "pygments_lexer": "ipython3",
   "version": "3.10.4"
  }
 },
 "nbformat": 4,
 "nbformat_minor": 5
}
