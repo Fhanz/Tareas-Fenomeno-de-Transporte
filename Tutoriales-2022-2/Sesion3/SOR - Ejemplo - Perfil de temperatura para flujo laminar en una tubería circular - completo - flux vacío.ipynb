{
 "cells": [
  {
   "cell_type": "markdown",
   "id": "8e7f2722",
   "metadata": {},
   "source": [
    "# Python Sesión 3 - Método de sobre-relajación sucesiva (SOR)\n",
    "\n",
    "## Parte 2: Ejemplo\n",
    "\n",
    "## IIQ2003 - Fenómenos de Transporte - Python S3\n",
    "\n",
    "Departamento de Ingeniería Química y Bioprocesos\n",
    "\n",
    "Pontificia Universidad Católica de Chile\n",
    "\n",
    "Profesor: Felipe Huerta"
   ]
  },
  {
   "cell_type": "markdown",
   "id": "2467909e",
   "metadata": {},
   "source": [
    "### Enunciado"
   ]
  },
  {
   "cell_type": "markdown",
   "id": "2569492f",
   "metadata": {},
   "source": [
    "En la **Clase 12** se derivó que la ecuación que gobierna el perfil de temperatura para la convección forzada de calor en un tubo circular con un regimen de flujo laminar es:\n",
    "\n",
    "$$ \\rho \\hat{c}_p v_{max} \\left(1- \\left( \\frac{r}{R} \\right)^2 \\right) \\frac{\\partial T}{\\partial z} = k \\left[ \\frac{1}{r} \\frac{\\partial}{\\partial r}  \\left( r \\frac{\\partial T}{\\partial r} \\right)  + \\frac{\\partial^2 T}{\\partial z^2} \\right] $$"
   ]
  },
  {
   "cell_type": "markdown",
   "id": "db006390",
   "metadata": {},
   "source": [
    "A diferencia de la clase, **no se despreciará** el término de conducción axial $k \\frac{\\partial^2 T}{\\partial z^2}$. Al desarrollar la derivada del lado derecho, restando el lado derecho a ambos lados de la ecuación y reordenando términos, es posible escribir la ecuación diferencial parcial (EDP) de la siguiente forma:"
   ]
  },
  {
   "cell_type": "markdown",
   "id": "d6d7b550",
   "metadata": {},
   "source": [
    "$$ k \\frac{\\partial^2 T}{\\partial r ^2} + k \\frac{\\partial^2 T}{\\partial z ^2} + \\frac{k}{r} \\frac{\\partial T}{\\partial r} - \\rho \\hat{c}_p v_{max} \\left(1- \\left( \\frac{r}{R} \\right)^2 \\right) \\frac{\\partial T}{\\partial z} = 0$$ "
   ]
  },
  {
   "cell_type": "markdown",
   "id": "20dcb7ce",
   "metadata": {},
   "source": [
    "En donde todos los términos que multiplican a las derivadas espaciales de la temperatura son constantes o funciones de la variable independiente $r$. Utilizando el método de sobrerrelajación sucesiva, encuentre el perfil bidimensional de temperatura que satisface la EDP. \n",
    "\n",
    "Considere que:\n",
    "* El radio interno de la tubería, $R=L_r$, es 2.54 cm.\n",
    "* El largo de la tubería, $L=L_z$ es 20 veces el radio\n",
    "* El fluido que circula por la tubería es agua cuya conductividad térmica a la temperatura promedio es $k = 0.6$ Wm$^{-1}$K$^{-1}$, la densidad a la temperatura promedio es $\\rho = 1000 kg m^{-3}$ y el calor específico evaluado a la temperatura promedio es $\\hat{c}_p$ = 4180 J/kgK. La viscosidad del agua a la temperatura promedio es $\\mu = 10^{-3} $ Pa$\\cdot$ s.\n",
    "* La temperatura del agua a la entrada del estanque es de 298.15 K\n",
    "* Existe un gradiente de presión tal que la velocidad máxima a la tubería es de 0.1 mm/s.\n",
    "* El agua que circula por la tubería es calentada en las paredes mediante un flux de calor radial, constante e igual a $q_w = 300$ W m$^{-2}$."
   ]
  },
  {
   "cell_type": "markdown",
   "id": "73af882d",
   "metadata": {},
   "source": [
    "### Paso 1: Discretización de la EDP\n",
    "\n",
    "Convierta la EDP en un sistema de ecuaciones lineales utilizando diferencias finitas."
   ]
  },
  {
   "cell_type": "markdown",
   "id": "a4b903e0",
   "metadata": {},
   "source": [
    "#### Solucion:\n",
    "\n",
    "Utilizando las ecuaciones de aproximaciones por diferencias finitas (ver páginas 18 y 19 del formulario y Clase 16), se obtiene:"
   ]
  },
  {
   "cell_type": "markdown",
   "id": "85e247aa",
   "metadata": {},
   "source": [
    "$$ k \\left( \\frac{T_{i+1,j} - 2T_{i,j} + T_{i-1,j}}{\\Delta r^2} \\right) +\n",
    "k \\left( \\frac{T_{i,j+1} - 2T_{i,j} + T_{i,j-1}}{\\Delta z^2} \\right)  +\n",
    "\\frac{k}{r_i} \\left( \\frac{T_{i,j} - T_{i-1,j}}{\\Delta r} \\right) - \\rho \\hat{c}_p v_{max} \\left(1- \\left( \\frac{r_i}{R} \\right)^2 \\right) \\left( \\frac{T_{i,j} - T_{i,j-1}}{\\Delta z} \\right) = 0  $$"
   ]
  },
  {
   "cell_type": "markdown",
   "id": "a2ca8d22",
   "metadata": {},
   "source": [
    "### Paso 2: Configuración del problema\n",
    "\n",
    "Antes de continuar con las factorizaciones y discretizaciones, conviene configurar el problema."
   ]
  },
  {
   "cell_type": "code",
   "execution_count": 1,
   "id": "f242e359",
   "metadata": {},
   "outputs": [],
   "source": [
    "# Importar paquetes\n",
    "import numpy as np\n",
    "import matplotlib.pyplot as plt"
   ]
  },
  {
   "cell_type": "code",
   "execution_count": 2,
   "id": "489407ab",
   "metadata": {},
   "outputs": [
    {
     "name": "stdout",
     "output_type": "stream",
     "text": [
      "Re = 2.540e+00, Pe = 3.539e+02\n"
     ]
    }
   ],
   "source": [
    "# Número de nodos en cada dirección\n",
    "\n",
    "L_r = 0.0254                    # Largo de la coordenada radial, 1 m\n",
    "L_z = L_r*20                  # Largo de la coordenada axial, 0.05 m\n",
    "\n",
    "n_r = 48                 # Number of grid points in the xi direction\n",
    "n_z = 48               # Number of grid points in the zeta direction\n",
    "\n",
    "R = L_r # Alias del radio\n",
    "\n",
    "# Inicialización de vectores generadores del retículo\n",
    "r = np.linspace(0,L_r,n_r)\n",
    "z = np.linspace(0,L_z,n_z)\n",
    "dr = L_r/(n_r-1)\n",
    "dz = L_z/(n_z-1)\n",
    "\n",
    "# Temperatura inicial\n",
    "T_0 = 298.15 # K\n",
    "\n",
    "T = np.ones((n_r,n_z))*T_0 # Array to store temperature\n",
    "\n",
    "# Temperatura a la entrada de la tubería\n",
    "T_1 = 298.15 # K\n",
    "\n",
    "k = 0.6 # W/mK conductividad térmica típica de líquidos\n",
    "rho = 1000 # kg / m^3\n",
    "c_p = 4180 # J / kg K\n",
    "\n",
    "# Flux de calor\n",
    "q_0 = 300 # W m^-2 K^-1\n",
    "mu = 1e-3 # Pa *s \n",
    "v_max = 1e-4 # m/s 1e-3 m/s da perfil interesante\n",
    "#Pe = 100000\n",
    "#v_max = Pe*k/(rho*c_p*L_z)\n",
    "Re = rho*v_max*(2*R)/(2*mu)\n",
    "Pe = v_max / k * (rho*c_p*L_z)\n",
    "# print(\"Re = %.3e\" %(Re))\n",
    "print(\"Re = %.3e, Pe = %.3e\" %(Re,Pe))"
   ]
  },
  {
   "cell_type": "markdown",
   "id": "53a43949",
   "metadata": {},
   "source": [
    "### Paso 3: Reordenamiento para encontrar los coeficientes $a,b,c,d,e,f$ para el método de sobrerrelajación sucesiva"
   ]
  },
  {
   "cell_type": "markdown",
   "id": "4571151c",
   "metadata": {},
   "source": [
    "Una vez obtenida la forma discretizada de la EDP, el siguiente paso es agrupar términos para convertirlos a la estructura general necesaria para aplicar SOR. Esto permite encontrar los coeficientes que multiplican a la variable dependiente en los distintos nodos del reticulado:\n"
   ]
  },
  {
   "cell_type": "markdown",
   "id": "e502ab35",
   "metadata": {},
   "source": [
    "$$ \\left( \\frac{k}{\\Delta r^2}\\right) T_{i+1,j} + \\left( \\frac{k}{\\Delta r^2} - \\frac{k}{r_i \\Delta r} \\right) T_{i-1,j}    + \\frac{k}{\\Delta z^2} T_{i,j+1}+ \\left( \\frac{\\rho \\hat{c}_p v_{max}}{\\Delta z} \\left(1- \\left( \\frac{r_i}{R} \\right)^2 \\right) + \\frac{k}{\\Delta z^2} \\right) T_{i,{j-1}} + \\left(\\frac{-2k}{\\Delta r^2} -\\frac{2k}{\\Delta z^2} + \\frac{k}{r_i \\Delta r}  - \\frac{\\rho \\hat{c}_p v_{max}}{\\Delta z} \\left(1- \\left( \\frac{r_i}{R} \\right)^2 \\right) \\right) T_{i,j} = 0 $$"
   ]
  },
  {
   "cell_type": "markdown",
   "id": "35844723",
   "metadata": {},
   "source": [
    "De donde se obtienen los coeficientes\n",
    "\n",
    "$$a_{ij} =  \\frac{k}{\\Delta r^2} $$\n",
    "\n",
    "$$b_{ij} = \\frac{k}{\\Delta r^2} - \\frac{k}{r_i \\Delta r} $$\n",
    "\n",
    "$$c_{ij} = \\frac{k}{\\Delta z^2} $$\n",
    "\n",
    "$$ d_{ij} = \\frac{\\rho \\hat{c}_p v_{max}}{\\Delta z} \\left(1- \\left( \\frac{r_i}{R} \\right)^2 \\right) + \\frac{k}{\\Delta z^2}  $$\n",
    "\n",
    "$$ e_{ij} = \\frac{-2k}{\\Delta r^2} + \\frac{k}{r_i \\Delta r}  - \\frac{\\rho \\hat{c}_p v_{max}}{\\Delta z} \\left(1- \\left( \\frac{r_i}{R} \\right)^2 \\right) + \\frac{-2k}{\\Delta z^2}$$\n",
    "\n",
    "$$ f_{ij} = 0 $$"
   ]
  },
  {
   "cell_type": "markdown",
   "id": "bf8c8349",
   "metadata": {},
   "source": [
    "Ahora es posible definir estos coeficientes"
   ]
  },
  {
   "cell_type": "code",
   "execution_count": 3,
   "id": "b9d81cd9",
   "metadata": {},
   "outputs": [],
   "source": [
    "a = k/dr**2\n",
    "\n",
    "# Solo consideramos los puntos interiores del vector r/\n",
    "# Agregamos un 0 al inicio y al final para evitar errores numéricos\n",
    "\n",
    "b = k/dr**2 - k/(r[1:-1]* dr)\n",
    "b = np.append(0,b)\n",
    "b = np.append(b,0)\n",
    "\n",
    "c = k/dz**2\n",
    "\n",
    "# Solo consideramos los puntos interiores del vector r/\n",
    "# Agregamos un 0 al inicio y al final para evitar errores numéricos\n",
    "\n",
    "d = rho*c_p*v_max/dz * (1-(r[1:-1]/R)**2) + k/dz**2\n",
    "d = np.append(0,d)\n",
    "d = np.append(d,0)\n",
    "\n",
    "\n",
    "# Solo consideramos los puntos interiores del vector r/\n",
    "# Agregamos un 0 al inicio y al final para evitar errores numéricos\n",
    "e = -2*k/dr**2 + k/(r[1:-1]* dr) - rho*c_p*v_max/dz * (1-(r[1:-1]/R)**2) -2*k/dz**2\n",
    "e = np.append(0,e)\n",
    "e = np.append(e,0)\n",
    "\n",
    "f = 0"
   ]
  },
  {
   "cell_type": "markdown",
   "id": "3ec2ea70",
   "metadata": {},
   "source": [
    "### Paso 4 - Condiciones de borde"
   ]
  },
  {
   "cell_type": "markdown",
   "id": "9cd33cad",
   "metadata": {},
   "source": [
    "* CB1:Temperatura de entrada a la tubería conocida\n",
    "$$T(r,z=0) = T_1$$\n",
    "\n",
    "Por lo tanto, Para $1 < j < N_1$ se obtienen condiciones de borde de Dirichlet,\n",
    "\n",
    "$$\\rightarrow T_{i,1} = T_1 $$ \n",
    "\n",
    "* CB2: Perfil simétrico\n",
    "$$  \\frac{\\partial T}{\\partial r} |_{r=0,z} = 0 $$ \n",
    "\n",
    "Aplicaremos una aproximación de primer orden en la condición de borde para garantizar la estabilidad numérica de la solución.\n",
    "\n",
    "$$\\rightarrow T_{1,j} = T_{2,j} $$ \n",
    "\n",
    "* CB3: Gradiente térmico axial nulo a la salida de la tubería\n",
    "$$\\frac{\\partial T}{\\partial z} |_{r,z = L} = 0 $$\n",
    "\n",
    "Aplicaremos una aproximación de primer orden en la condición de borde para garantizar la estabilidad numérica de la solución.\n",
    "\n",
    "$$\\rightarrow T_{i,N_z+1} = T_{i,N_z} $$ \n",
    "\n",
    "* CB4: Flux de calor constante en la pared de la tubería\n",
    "$$  k\\frac{\\partial T}{\\partial r} |_{r=0,z} = q_0 $$ \n",
    "\n",
    "$$\\rightarrow \\frac{T_{N_r+1,i} -  T_{N_r,i}}{\\Delta r}  =\\frac{q_0}{k} $$ \n",
    "\n",
    "$$ \\rightarrow T_{N_r+1,i} = T_{N_r,i} + \\frac{q_0 \\Delta r}{k} $$"
   ]
  },
  {
   "cell_type": "markdown",
   "id": "7658e7de",
   "metadata": {},
   "source": [
    "### Paso 5: Implementación algoritmo SOR"
   ]
  },
  {
   "cell_type": "markdown",
   "id": "98f1a618",
   "metadata": {},
   "source": [
    "La aproximación de relajación sucesiva se puede escribir como\n",
    "\n",
    "$$ u^{nuevo}_{i,j} = u^{antiguo}_{i,j} - \\omega \\frac{\\rho_{i,j}}{e_{i,j}}$$\n",
    "\n",
    "Donde $\\rho_{i,j}$ es el residuo:\n",
    "\n",
    "\\\\[a_{i,j}u_{i+1,j}^{guess}+b_{i,j}u_{i-1,j}^{guess}+c_{i,j}u_{i,j+1}^{guess}+d_{i,j}u_{i,j-1}^{guess}+e_{i,j}u_{i,j}^{guess}-f_{i,j}=\\rho_{i,j}.\\\\]\n",
    "\n",
    "Se debe notar que todas las condiciones de borde se deben actualizar en cada iteración, ya que dependen de los valores de los nodos interiores. Las condiciones de borde para R se deben calcular al finalizar cada iteración, puesto que dependen de los valores de los nodos interiores.\n",
    "\n",
    "En el cuadro de código a continuación se implementa el método SOR para este problema. Note que la solución puede tomar algunos minutos, dependiendo del número de nodos escogidos y la velocidad de su procesador."
   ]
  },
  {
   "cell_type": "code",
   "execution_count": 4,
   "id": "7271940b",
   "metadata": {},
   "outputs": [
    {
     "name": "stdout",
     "output_type": "stream",
     "text": [
      "Residuo: 1.277e+07 \n",
      "Residuo: 6.305e+07 \n",
      "Residuo: 6.788e+07 \n",
      "Residuo: 6.594e+07 \n",
      "Residuo: 6.263e+07 \n",
      "Residuo: 5.905e+07 \n",
      "Residuo: 5.542e+07 \n",
      "Residuo: 5.178e+07 \n",
      "Residuo: 4.814e+07 \n",
      "Residuo: 4.450e+07 \n",
      "Residuo: 4.087e+07 \n",
      "Residuo: 3.724e+07 \n",
      "Residuo: 3.364e+07 \n",
      "Residuo: 3.007e+07 \n",
      "Residuo: 2.657e+07 \n",
      "Residuo: 2.318e+07 \n",
      "Residuo: 1.995e+07 \n",
      "Residuo: 1.691e+07 \n",
      "Residuo: 1.412e+07 \n",
      "Residuo: 1.161e+07 \n",
      "Residuo: 9.386e+06 \n",
      "Residuo: 7.470e+06 \n",
      "Residuo: 5.851e+06 \n",
      "Residuo: 4.512e+06 \n",
      "Residuo: 3.428e+06 \n",
      "Residuo: 2.566e+06 \n",
      "Residuo: 1.893e+06 \n",
      "Residuo: 1.378e+06 \n",
      "Residuo: 9.904e+05 \n",
      "Residuo: 7.029e+05 \n",
      "Residuo: 4.930e+05 \n",
      "Residuo: 3.419e+05 \n",
      "Residuo: 2.346e+05 \n",
      "Residuo: 1.593e+05 \n",
      "Residuo: 1.072e+05 \n",
      "Residuo: 7.143e+04 \n",
      "Residuo: 4.720e+04 \n",
      "Residuo: 3.093e+04 \n",
      "Residuo: 2.011e+04 \n",
      "Residuo: 1.298e+04 \n",
      "Residuo: 8.322e+03 \n",
      "Residuo: 5.298e+03 \n",
      "Residuo: 3.352e+03 \n",
      "Residuo: 2.108e+03 \n",
      "Residuo: 1.319e+03 \n",
      "Residuo: 8.202e+02 \n",
      "Residuo: 5.075e+02 \n",
      "Residuo: 3.125e+02 \n",
      "Residuo: 1.916e+02 \n",
      "Residuo: 1.169e+02 \n",
      "Residuo: 7.104e+01 \n",
      "Residuo: 4.299e+01 \n",
      "Residuo: 2.592e+01 \n",
      "Residuo: 1.557e+01 \n",
      "Residuo: 9.322e+00 \n",
      "Residuo: 5.562e+00 \n",
      "Residuo: 3.308e+00 \n",
      "Residuo: 1.961e+00 \n",
      "Residuo: 1.160e+00 \n",
      "Residuo: 6.837e-01 \n",
      "Residuo: 4.020e-01 \n",
      "Residuo: 2.357e-01 \n",
      "Residuo: 1.379e-01 \n",
      "Residuo: 8.044e-02 \n",
      "Residuo: 4.682e-02 \n",
      "Residuo: 2.719e-02 \n",
      "Residuo: 1.573e-02 \n",
      "Residuo: 9.059e-03 \n",
      "Residuo: 5.217e-03 \n",
      "Residuo: 2.956e-03 \n",
      "Residuo: 1.681e-03 \n",
      "Residuo: 9.466e-04 \n",
      "Residuo: 5.192e-04 \n",
      "Residuo: 2.873e-04 \n",
      "Residuo: 1.527e-04 \n"
     ]
    }
   ],
   "source": [
    "# Parámetro de sobre-relajación\n",
    "omega = 1.4\n",
    "\n",
    "# Criterio de convergencia\n",
    "resid_crit = 1e-4 \n",
    "\n",
    "# Valor arbitrario al comienzo\n",
    "resid_ave = 100\n",
    "\n",
    "# Número de iteraciones\n",
    "count = 0\n",
    "\n",
    "        \n",
    "# r = 0\n",
    "T[0,:] = T[1,:]\n",
    "\n",
    "# r = R\n",
    "T[-1,:] = T[-2,:] + q_0*dr/k\n",
    "\n",
    "# z = 0\n",
    "T[:,0] = T_1\n",
    "\n",
    "# z = L\n",
    "# Extrapolación\n",
    "T[:,-1] = 2*T[:,-2] - T[:,-3]\n",
    "                \n",
    "\n",
    "while resid_ave > resid_crit:\n",
    "    \n",
    "    # Residuo viejo\n",
    "    resid_old = resid_ave\n",
    "    \n",
    "    # Setear residuo promedio en 0 para sumar más adelante\n",
    "    resid_ave = 0\n",
    "    \n",
    "    # Checker boarding\n",
    "    cnt_points = 0\n",
    "    \n",
    "    \n",
    "    # Loop sobre los puntos internos\n",
    "    for i in range(0,n_r):\n",
    "        for j in range(0,n_z):\n",
    "            \n",
    "            # Checker-boarding para garantizar convergencia\n",
    "            if ((i+j)%2)==count%2:\n",
    "                   \n",
    "                #print(\"i =%.3f, j= %.3f\" % (i,j))\n",
    "                # Residuo\n",
    "                if (i>0) & (i<n_r-1) & (j>0) & (j<n_z-1):\n",
    "                    residual = a * T[i+1,j] + b[i] * T[i-1,j] + \\\n",
    "                    c * T[i,j+1]+ d[i] * T[i,j-1] + e[i] * T[i,j] - f\n",
    "\n",
    "                    # Actualizar el valor de T\n",
    "                    T[i,j] += -omega*residual/e[i]\n",
    "\n",
    "                    # Actualizar el promedio del residuo como la suma de residuos\n",
    "                    resid_ave += abs(residual)\n",
    "                    # print(residual)\n",
    "                cnt_points += 1\n",
    "    \n",
    "    # Actualización dinámica de condiciones de borde después de que la matriz solución completa\n",
    "    # se actualizó (un ciclo de checkerboarding completo)\n",
    "    if count%2==0:\n",
    "        # r = 0\n",
    "        T[0,:] = T[1,:]\n",
    "        # r = R\n",
    "        T[-1,:] = T[-2,:] + q_0*dr/k\n",
    "        # z = 0\n",
    "        T[:,0] = T_1\n",
    "        # z = L\n",
    "        T[:,-1] = 2*T[:,-2] - T[:,-3]\n",
    "    resid = resid_ave/cnt_points\n",
    "        \n",
    "    # Imprimir cada 200 iteraciones\n",
    "    if count%200==0:\n",
    "        print(\"Residuo: %.3e \"% resid_ave)\n",
    "        # print(\"Delta res: %.3e\" % (resid_ave - resid_old))\n",
    "    \n",
    "    # Contar iteraciones\n",
    "    count = count + 1\n"
   ]
  },
  {
   "cell_type": "markdown",
   "id": "5824d52e",
   "metadata": {},
   "source": [
    "### Paso 6: Graficar el perfil de temperatura\n",
    "\n",
    "Para facilitar la visualización, se define el radio adimensional $\\xi = r/R$ y el largo adimensional $\\zeta = z/L$. \n",
    "\n",
    "La librería matplotlib provee la función `imshow` que permite graficar de manera directa datos 2-D que provengan de una imagen. En este caso, se puede considerar una grilla donde la dimensión horizontal representa el radio de la tubería, la dimensión vertical representa la coordenada axial y el color representa la temperatura. El gráfico acontinuación genera un `heatmap` o diagrama de calor para cada uno de los *n_r x n_z* nodos en la tubería:"
   ]
  },
  {
   "cell_type": "code",
   "execution_count": 5,
   "id": "581413ee",
   "metadata": {},
   "outputs": [
    {
     "data": {
      "image/png": "[encoded data removed]",
      "text/plain": [
       "<Figure size 432x432 with 2 Axes>"
      ]
     },
     "metadata": {
      "needs_background": "light"
     },
     "output_type": "display_data"
    }
   ],
   "source": [
    "plt.figure(figsize=(6,6))\n",
    "plt.imshow(np.transpose(T), origin=\"upper\", extent =[0, 1, 1, 0], cmap = \"inferno\")\n",
    "plt.colorbar(label=r\"$\\theta(\\xi,\\zeta)$\")\n",
    "plt.xlabel(r'$\\xi$')\n",
    "plt.ylabel(r'$\\zeta$')\n",
    "# plt.ylim(1,0)\n",
    "# plt.xlim(0,1)\n",
    "plt.show()"
   ]
  },
  {
   "cell_type": "markdown",
   "id": "44c6346e",
   "metadata": {},
   "source": [
    "Se puede observar un perfil bidimensional de temperatura, en donde la temperatura máxima se alcanza en la intersección del plano de salida de la tubería y la pared del tanque. \n",
    "\n",
    "Para comprender mejor la variación de los perfiles de temperatura, se graficará el perfil de temperatura en función del radio en distintas secciones transversales al flujo. Esto implica graficar un perfil radial para un valor de coordenada axial, $z$, dado."
   ]
  },
  {
   "cell_type": "code",
   "execution_count": 6,
   "id": "04ce7888",
   "metadata": {},
   "outputs": [
    {
     "data": {
      "image/png": "[encoded data removed]",
      "text/plain": [
       "<Figure size 360x360 with 1 Axes>"
      ]
     },
     "metadata": {
      "needs_background": "light"
     },
     "output_type": "display_data"
    }
   ],
   "source": [
    "# Se crea una nueva figura\n",
    "plt.figure(figsize=[5,5])\n",
    "\n",
    "# Se grafica un perfil para espaciamientos igual a 10*dz\n",
    "\n",
    "for i in range(1,len(z),10):\n",
    "    plt.plot(r, T[:,i], label=\"z = %.2f m\"%z[i])\n",
    "\n",
    "# Títulos de ejes y estética\n",
    "plt.xlabel('Radio / m', size = 12)\n",
    "plt.ylabel('Temperatura / K', size = 12)\n",
    "plt.tick_params(labelsize=12)\n",
    "\n",
    "# Generación de leyendas\n",
    "plt.legend()\n",
    "\n",
    "plt.show()"
   ]
  },
  {
   "cell_type": "markdown",
   "id": "0d380771",
   "metadata": {},
   "source": [
    "Escogimos un número de Reynolds lo suficientemente bajo para que el perfil se desarrolle completamente. Observamos que a medida que la distancia desde el inicio aumenta, los perfiles de temperatura tienen la misma forma y se desplazan linealmente hacia arriba."
   ]
  },
  {
   "cell_type": "markdown",
   "id": "05a89687",
   "metadata": {},
   "source": [
    "### Paso 7: Graficar el flux molecular de calor sobre el perfil de temperatura\n",
    "\n",
    "Se deben calcular los flux de calor molecular en las dos dimensiones para cada punto de la grilla. Para esto se utiliza la ley de Fourier en ambas direcciones:\n",
    "\n",
    "$$ \\left( \\frac{q_r}{A} \\right) = -k \\frac{\\partial T}{\\partial r} $$\n",
    "\n",
    "$$ \\left( \\frac{q_z}{A} \\right) = -k \\frac{\\partial T}{\\partial z} $$\n",
    "\n",
    "Es necesario discretizar estos fluxes, mediante aproximaciones de segundo orden para los puntos centrales de la grilla se tiene:\n",
    "\n",
    "$$ \\left( \\frac{q_r}{A} \\right) = -k \\frac{T_{i+1,j} - T_{i-1,j}}{2\\Delta r} $$\n",
    "\n",
    "$$ \\left( \\frac{q_z}{A} \\right) = -k \\frac{T_{i,j+1} - T_{i,j-1}}{2\\Delta z} $$\n",
    "\n",
    "En el borde inferior ($z = L$) se utiliza la diferencia central para cacular el flux en $r$, sin embargo, para el flux en $z$ se necesita la diferencia discreta de segundo orden hacia atrás para la derivada.\n",
    "\n",
    "$$ \\left( \\frac{q_z}{A} \\right)_{i,L} = -k \\frac{3 T_{i,L} - 4 T_{i,L-1} + T_{i,L-2}}{2 \\Delta z}$$\n",
    "\n",
    "De forma similar para el borde superior ($z = 0$) se necesita la diferencia discreta de segundo orden hacia adelante para la derivada.\n",
    "\n",
    "$$ \\left( \\frac{q_z}{A} \\right)_{i,0} = -k \\frac{-3 T_{i,0} + 4 T_{i,1} - T_{i,2}}{2 \\Delta z}$$\n",
    "\n",
    "Para los bordes izquierdo ($r = 0$) y derecho ($r = R$), el componente en $r$ del flux.\n",
    "\n",
    "$$ \\left( \\frac{q_r}{A} \\right)_{0,j} = -k \\frac{-3 T_{0,j} + 4 T_{1,j} - T_{2,j}}{2 \\Delta r}$$\n",
    "\n",
    "$$ \\left( \\frac{q_r}{A} \\right)_{R,j} = -k \\frac{3 T_{R,j} - 4 T_{R-1,j} + T_{R-2,j}}{2 \\Delta r}$$\n",
    "\n",
    "\n",
    "Se implementan las fórmulas para el cálculo de los fluxes."
   ]
  },
  {
   "cell_type": "code",
   "execution_count": null,
   "id": "4e7b349b",
   "metadata": {},
   "outputs": [],
   "source": []
  },
  {
   "cell_type": "markdown",
   "id": "4090968b",
   "metadata": {},
   "source": [
    "Ubicando los fluxes sobre el gráfico de concentración $T(r,z)$."
   ]
  },
  {
   "cell_type": "code",
   "execution_count": null,
   "id": "1753e095",
   "metadata": {},
   "outputs": [],
   "source": []
  },
  {
   "cell_type": "markdown",
   "id": "e7c55a2e",
   "metadata": {},
   "source": [
    "### Desafío:\n",
    "Implemente la solución analítica al perfil de temperatura obtenida en la Clase 12 y compárela con la solución numérica derivada en este Notebook."
   ]
  },
  {
   "cell_type": "markdown",
   "id": "e8dbf361",
   "metadata": {},
   "source": [
    "## Referencias\n",
    "\n",
    "https://primer-computational-mathematics.github.io/book/c_mathematics/numerical_methods/6_Solving_PDEs_SOR.html\n",
    "\n",
    "Stability of Successive Over Relaxation: https://en.wikipedia.org/wiki/Successive_over-relaxation"
   ]
  }
 ],
 "metadata": {
  "kernelspec": {
   "display_name": "Python 3 (ipykernel)",
   "language": "python",
   "name": "python3"
  },
  "language_info": {
   "codemirror_mode": {
    "name": "ipython",
    "version": 3
   },
   "file_extension": ".py",
   "mimetype": "text/x-python",
   "name": "python",
   "nbconvert_exporter": "python",
   "pygments_lexer": "ipython3",
   "version": "3.9.12"
  }
 },
 "nbformat": 4,
 "nbformat_minor": 5
}
